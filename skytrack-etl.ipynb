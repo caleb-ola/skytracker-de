{
 "cells": [
  {
   "cell_type": "code",
   "execution_count": 1,
   "id": "261f171f",
   "metadata": {},
   "outputs": [],
   "source": [
    "import pandas as pd\n",
    "import requests\n",
    "import os\n",
    "import json\n",
    "\n",
    "from pyspark.sql import SparkSession\n",
    "from pyspark.sql.functions import col, explode, trim, udf, row_number, monotonically_increasing_id, to_date, from_unixtime, substring\n",
    "from pyspark.sql.types import DoubleType, StringType\n",
    "from pyspark.sql.window import Window\n",
    "\n",
    "from dotenv import load_dotenv\n",
    "from datetime import datetime, UTC\n",
    "\n",
    "from geopy.distance import geodesic\n",
    "\n",
    "import psycopg2\n",
    "from sqlalchemy import create_engine, text\n"
   ]
  },
  {
   "cell_type": "code",
   "execution_count": 2,
   "id": "df257fdc",
   "metadata": {},
   "outputs": [
    {
     "name": "stdout",
     "output_type": "stream",
     "text": [
      ":: loading settings :: url = jar:file:/opt/anaconda3/envs/skytrack-env/lib/python3.12/site-packages/pyspark/jars/ivy-2.5.1.jar!/org/apache/ivy/core/settings/ivysettings.xml\n"
     ]
    },
    {
     "name": "stderr",
     "output_type": "stream",
     "text": [
      "Ivy Default Cache set to: /Users/admin/.ivy2/cache\n",
      "The jars for the packages stored in: /Users/admin/.ivy2/jars\n",
      "org.postgresql#postgresql added as a dependency\n",
      ":: resolving dependencies :: org.apache.spark#spark-submit-parent-894e4e47-fb5d-4ef9-8634-49b3561efe82;1.0\n",
      "\tconfs: [default]\n",
      "\tfound org.postgresql#postgresql;42.2.27 in central\n",
      "\tfound org.checkerframework#checker-qual;3.5.0 in central\n",
      ":: resolution report :: resolve 115ms :: artifacts dl 7ms\n",
      "\t:: modules in use:\n",
      "\torg.checkerframework#checker-qual;3.5.0 from central in [default]\n",
      "\torg.postgresql#postgresql;42.2.27 from central in [default]\n",
      "\t---------------------------------------------------------------------\n",
      "\t|                  |            modules            ||   artifacts   |\n",
      "\t|       conf       | number| search|dwnlded|evicted|| number|dwnlded|\n",
      "\t---------------------------------------------------------------------\n",
      "\t|      default     |   2   |   0   |   0   |   0   ||   2   |   0   |\n",
      "\t---------------------------------------------------------------------\n",
      ":: retrieving :: org.apache.spark#spark-submit-parent-894e4e47-fb5d-4ef9-8634-49b3561efe82\n",
      "\tconfs: [default]\n",
      "\t0 artifacts copied, 2 already retrieved (0kB/3ms)\n",
      "25/07/21 11:34:19 WARN NativeCodeLoader: Unable to load native-hadoop library for your platform... using builtin-java classes where applicable\n",
      "Setting default log level to \"WARN\".\n",
      "To adjust logging level use sc.setLogLevel(newLevel). For SparkR, use setLogLevel(newLevel).\n"
     ]
    }
   ],
   "source": [
    "spark = SparkSession.builder.appName(\"SkyTrack DE\") \\\n",
    "                            .config(\"spark.jars.packages\", \"org.postgresql:postgresql:42.2.27\") \\\n",
    "                            .getOrCreate()"
   ]
  },
  {
   "cell_type": "code",
   "execution_count": 3,
   "id": "8980dc48",
   "metadata": {},
   "outputs": [
    {
     "data": {
      "text/html": [
       "\n",
       "            <div>\n",
       "                <p><b>SparkSession - in-memory</b></p>\n",
       "                \n",
       "        <div>\n",
       "            <p><b>SparkContext</b></p>\n",
       "\n",
       "            <p><a href=\"http://admins-mbp.broadband:4040\">Spark UI</a></p>\n",
       "\n",
       "            <dl>\n",
       "              <dt>Version</dt>\n",
       "                <dd><code>v3.5.4</code></dd>\n",
       "              <dt>Master</dt>\n",
       "                <dd><code>local[*]</code></dd>\n",
       "              <dt>AppName</dt>\n",
       "                <dd><code>SkyTrack DE</code></dd>\n",
       "            </dl>\n",
       "        </div>\n",
       "        \n",
       "            </div>\n",
       "        "
      ],
      "text/plain": [
       "<pyspark.sql.session.SparkSession at 0x15b9c4410>"
      ]
     },
     "execution_count": 3,
     "metadata": {},
     "output_type": "execute_result"
    }
   ],
   "source": [
    "spark"
   ]
  },
  {
   "cell_type": "code",
   "execution_count": 5,
   "id": "0ee5ee90",
   "metadata": {},
   "outputs": [
    {
     "data": {
      "text/plain": [
       "True"
      ]
     },
     "execution_count": 5,
     "metadata": {},
     "output_type": "execute_result"
    }
   ],
   "source": [
    "load_dotenv(override=True)"
   ]
  },
  {
   "cell_type": "markdown",
   "id": "3ba1a320",
   "metadata": {},
   "source": [
    "## Ingestion (Raw/Bronze Layer)"
   ]
  },
  {
   "cell_type": "code",
   "execution_count": 6,
   "id": "abbbbd79",
   "metadata": {},
   "outputs": [
    {
     "name": "stderr",
     "output_type": "stream",
     "text": [
      "25/07/21 11:34:39 WARN GarbageCollectionMetrics: To enable non-built-in garbage collector(s) List(G1 Concurrent GC), users should configure it(them) to spark.eventLog.gcMetrics.youngGenerationGarbageCollectors or spark.eventLog.gcMetrics.oldGenerationGarbageCollectors\n"
     ]
    }
   ],
   "source": [
    "def fetch_and_save_flights(url):\n",
    "    try:\n",
    "        response = requests.get(url)\n",
    "        data = response.json()\n",
    "\n",
    "        timestamp = datetime.now(UTC).strftime(\"%Y-%m-%d-%H-%M-%S\")\n",
    "        out_dir= f\"data/raw/{timestamp}\"\n",
    "\n",
    "        os.makedirs(out_dir, exist_ok=True)\n",
    "\n",
    "        with open(f\"{out_dir}/flights.json\", \"w\") as file:\n",
    "            json.dump(data, file)\n",
    "\n",
    "    except Exception as e:\n",
    "        print(f\"Something went very wrong: {e}\")\n"
   ]
  },
  {
   "cell_type": "code",
   "execution_count": 56,
   "id": "ec445a56",
   "metadata": {},
   "outputs": [],
   "source": [
    "if __name__ == \"__main__\":\n",
    "    url = \"https://opensky-network.org/api/states/all\"\n",
    "\n",
    "    fetch_and_save_flights(url)"
   ]
  },
  {
   "cell_type": "markdown",
   "id": "d538b9f7",
   "metadata": {},
   "source": [
    "## Extraction"
   ]
  },
  {
   "cell_type": "code",
   "execution_count": 8,
   "id": "4727d4e2",
   "metadata": {},
   "outputs": [],
   "source": [
    "# Collect all raw folders from today\n",
    "\n",
    "raw_data_path = \"data/raw\"\n",
    "today = datetime.now(UTC).strftime(\"%Y-%m-%d\")\n",
    "\n",
    "# all_json_folders = os.listdir(raw_data_path)\n",
    "\n",
    "# today_folders = []\n",
    "\n",
    "# for folder in all_json_folders:\n",
    "#     if today in folder:\n",
    "#         today_folders.append(folder)\n",
    "\n",
    "\n",
    "folders = [f\"{raw_data_path}/{f}\" for f in os.listdir(raw_data_path) if today in f]\n",
    "   \n",
    "\n",
    "# print(all_json_folders)\n",
    "# print(today_folders)\n",
    "# print(folders)"
   ]
  },
  {
   "cell_type": "code",
   "execution_count": 9,
   "id": "0ea2d632",
   "metadata": {},
   "outputs": [
    {
     "name": "stdout",
     "output_type": "stream",
     "text": [
      "+--------------------+----------+\n",
      "|              states|      time|\n",
      "+--------------------+----------+\n",
      "|[[4b1815, SWR3YX ...|1753087022|\n",
      "+--------------------+----------+\n",
      "\n"
     ]
    }
   ],
   "source": [
    "flights_df_from_file = spark.read.json(folders)\n",
    "flights_df_from_file.show()"
   ]
  },
  {
   "cell_type": "markdown",
   "id": "422bd931",
   "metadata": {},
   "source": [
    "## Transformation (Silver Layer)"
   ]
  },
  {
   "cell_type": "code",
   "execution_count": 10,
   "id": "e8c7072b",
   "metadata": {},
   "outputs": [
    {
     "name": "stdout",
     "output_type": "stream",
     "text": [
      "+-------------+--------------------+\n",
      "|snapshot_time|        states_array|\n",
      "+-------------+--------------------+\n",
      "|   1753087022|[4b1815, SWR3YX  ...|\n",
      "|   1753087022|[4b1818, SWR2HX  ...|\n",
      "|   1753087022|[a8a812, N657PT  ...|\n",
      "|   1753087022|[408120, , United...|\n",
      "|   1753087022|[88044a, AIQ4112 ...|\n",
      "|   1753087022|[aa56db, UAL1317 ...|\n",
      "|   1753087022|[408124, EXS14H  ...|\n",
      "|   1753087022|[39de4a, TVF97NG ...|\n",
      "|   1753087022|[88044f, AIQ1041 ...|\n",
      "|   1753087022|[39de4d, TVF29UL ...|\n",
      "|   1753087022|[408121, VIR12E  ...|\n",
      "|   1753087022|[39de4c, TVF97TG ...|\n",
      "|   1753087022|[7c6b2b, JST248  ...|\n",
      "|   1753087022|[801642, AXB264  ...|\n",
      "|   1753087022|[880459, AIQ243  ...|\n",
      "|   1753087022|[801645, AIC2717 ...|\n",
      "|   1753087022|[a1abef, N2069Q  ...|\n",
      "|   1753087022|[842194, ADO67   ...|\n",
      "|   1753087022|[440da5, EJU81MA ...|\n",
      "|   1753087022|[880454, AIQ5500 ...|\n",
      "+-------------+--------------------+\n",
      "only showing top 20 rows\n",
      "\n"
     ]
    }
   ],
   "source": [
    "flights_df_exploded = flights_df_from_file.select(\n",
    "    col(\"time\").alias(\"snapshot_time\"),\n",
    "    explode(col(\"states\")).alias(\"states_array\")\n",
    ")\n",
    "\n",
    "flights_df_exploded.show()"
   ]
  },
  {
   "cell_type": "code",
   "execution_count": 11,
   "id": "1352d6d6",
   "metadata": {},
   "outputs": [
    {
     "name": "stdout",
     "output_type": "stream",
     "text": [
      "+-------------+------+--------+--------------+-------------+------------+---------+--------+-------------+---------+--------+----------+-------------+-------+------------+------+-----+---------------+--------+\n",
      "|snapshot_time|icao24|callsign|origin_country|time_position|last_contact|longitude|latitude|baro_altitude|on_ground|velocity|true_track|vertical_rate|sensors|geo_altitude|squawk|  spi|position_source|category|\n",
      "+-------------+------+--------+--------------+-------------+------------+---------+--------+-------------+---------+--------+----------+-------------+-------+------------+------+-----+---------------+--------+\n",
      "|   1753087022|4b1815|SWR3YX  |   Switzerland|   1753087021|  1753087021|   4.4327| 42.5747|      11277.6|    false|  208.22|    210.43|            0|   NULL|     11772.9|  3071|false|              0|    NULL|\n",
      "|   1753087022|4b1818|SWR2HX  |   Switzerland|   1753087021|  1753087021|   2.3704| 49.0855|      2484.12|    false|  156.29|      6.24|        17.56|   NULL|      2476.5|  1000|false|              0|    NULL|\n",
      "|   1753087022|a8a812|N657PT  | United States|   1753087021|  1753087022|   1.4385| 51.4047|      7627.62|    false|  215.83|    125.39|        12.68|   NULL|      7658.1|  2707|false|              0|    NULL|\n",
      "|   1753087022|408120|        |United Kingdom|         NULL|  1753087020|     NULL|    NULL|         NULL|    false|  262.47|     91.57|            0|   NULL|        NULL|  NULL|false|              0|    NULL|\n",
      "|   1753087022|88044a|AIQ4112 |      Thailand|   1753087021|  1753087021|  99.5936| 10.6038|      10972.8|    false|  244.41|    197.14|            0|   NULL|    11673.84|  NULL|false|              0|    NULL|\n",
      "|   1753087022|aa56db|UAL1317 | United States|   1753087022|  1753087022|-120.8229|  38.686|      9212.58|    false|  255.02|     51.88|         7.15|   NULL|      9677.4|  3373|false|              0|    NULL|\n",
      "|   1753087022|408124|EXS14H  |United Kingdom|   1753087022|  1753087022|  14.8019| 35.7827|      1996.44|    false|  141.17|    167.58|        -3.25|   NULL|      2171.7|  2711|false|              0|    NULL|\n",
      "|   1753087022|39de4a|TVF97NG |        France|   1753087021|  1753087021|  -0.1466| 44.6463|     11285.22|    false|  211.92|     211.3|            0|   NULL|    11673.84|  7616|false|              0|    NULL|\n",
      "|   1753087022|88044f|AIQ1041 |      Thailand|   1753087018|  1753087021| 100.6325| 14.3015|      2072.64|    false|  115.47|    164.23|        -6.18|   NULL|     2141.22|  NULL|false|              0|    NULL|\n",
      "|   1753087022|39de4d|TVF29UL |        France|   1753087020|  1753087021|   3.5928| 48.1533|      5044.44|    false|  204.21|    349.26|       -11.38|   NULL|     5120.64|  2404|false|              0|    NULL|\n",
      "|   1753087022|408121|VIR12E  |United Kingdom|   1753087021|  1753087021|  -1.8319| 51.3629|       4991.1|    false|  172.99|     96.66|         -6.5|   NULL|      4991.1|  5174|false|              0|    NULL|\n",
      "|   1753087022|39de4c|TVF97TG |        France|   1753087021|  1753087021|  11.4354| 40.7696|     11574.78|    false|   224.9|    338.95|        -0.33|   NULL|    12222.48|  NULL|false|              0|    NULL|\n",
      "|   1753087022|7c6b2b|JST248  |     Australia|   1753087021|  1753087021| 172.7295|-42.9598|      6141.72|    false|  202.85|     22.99|         10.4|   NULL|     6156.96|  NULL|false|              0|    NULL|\n",
      "|   1753087022|801642|AXB264  |         India|   1753086736|  1753086736| 100.7445| 13.6803|         NULL|     true|   12.35|    284.06|         NULL|   NULL|        NULL|  NULL|false|              0|    NULL|\n",
      "|   1753087022|880459|AIQ243  |      Thailand|   1753086965|  1753086965| 125.4442| 28.1466|      10972.8|    false|  232.27|    231.02|            0|   NULL|    11742.42|  NULL|false|              0|    NULL|\n",
      "|   1753087022|801645|AIC2717 |         India|   1753087017|  1753087017|  77.6825| 14.3309|        10668|    false|  233.06|    179.37|            0|   NULL|    11292.84|  NULL|false|              0|    NULL|\n",
      "|   1753087022|a1abef|N2069Q  | United States|   1753087022|  1753087022|  28.6989|-25.4788|      5265.42|    false|  158.01|    247.61|       -12.35|   NULL|     5509.26|  7411|false|              0|    NULL|\n",
      "|   1753087022|842194|ADO67   |         Japan|   1753087021|  1753087021|  140.166| 37.1296|     10767.06|    false|  230.52|    358.85|         9.43|   NULL|    11475.72|  2007|false|              0|    NULL|\n",
      "|   1753087022|440da5|EJU81MA |       Austria|   1753087021|  1753087021|  13.3921| 50.9855|      8397.24|    false|  241.82|     14.54|        -6.83|   NULL|        8763|  1000|false|              0|    NULL|\n",
      "|   1753087022|880454|AIQ5500 |      Thailand|   1753087009|  1753087018|  99.2026|  18.677|      3017.52|    false|   154.1|    123.42|        11.05|   NULL|     3108.96|  NULL|false|              0|    NULL|\n",
      "+-------------+------+--------+--------------+-------------+------------+---------+--------+-------------+---------+--------+----------+-------------+-------+------------+------+-----+---------------+--------+\n",
      "only showing top 20 rows\n",
      "\n"
     ]
    }
   ],
   "source": [
    "flights_df = flights_df_exploded.select(\n",
    "    col(\"snapshot_time\"),\n",
    "    col(\"states_array\")[0].alias(\"icao24\"),\n",
    "    col(\"states_array\")[1].alias(\"callsign\"),\n",
    "    col(\"states_array\")[2].alias(\"origin_country\"),\n",
    "    col(\"states_array\")[3].alias(\"time_position\"),\n",
    "    col(\"states_array\")[4].alias(\"last_contact\"),\n",
    "    col(\"states_array\")[5].alias(\"longitude\").cast(DoubleType()),\n",
    "    col(\"states_array\")[6].alias(\"latitude\").cast(DoubleType()),\n",
    "    col(\"states_array\")[7].alias(\"baro_altitude\"),\n",
    "    col(\"states_array\")[8].alias(\"on_ground\"),\n",
    "    col(\"states_array\")[9].alias(\"velocity\"),\n",
    "    col(\"states_array\")[10].alias(\"true_track\"),\n",
    "    col(\"states_array\")[11].alias(\"vertical_rate\"),\n",
    "    col(\"states_array\")[12].alias(\"sensors\"),\n",
    "    col(\"states_array\")[13].alias(\"geo_altitude\"),\n",
    "    col(\"states_array\")[14].alias(\"squawk\"),\n",
    "    col(\"states_array\")[15].alias(\"spi\"),\n",
    "    col(\"states_array\")[16].alias(\"position_source\"),\n",
    "    col(\"states_array\")[17].alias(\"category\")\n",
    ")\n",
    "\n",
    "flights_df.show()"
   ]
  },
  {
   "cell_type": "code",
   "execution_count": 13,
   "id": "0d149731",
   "metadata": {},
   "outputs": [
    {
     "name": "stdout",
     "output_type": "stream",
     "text": [
      "Flight data extracted successfully.\n",
      "+-------------+------+--------+--------------+-------------+------------+---------+--------+-------------+---------+--------+----------+-------------+-------+------------+------+-----+---------------+--------+\n",
      "|snapshot_time|icao24|callsign|origin_country|time_position|last_contact|longitude|latitude|baro_altitude|on_ground|velocity|true_track|vertical_rate|sensors|geo_altitude|squawk|  spi|position_source|category|\n",
      "+-------------+------+--------+--------------+-------------+------------+---------+--------+-------------+---------+--------+----------+-------------+-------+------------+------+-----+---------------+--------+\n",
      "|   1753087022|4b1815|  SWR3YX|   Switzerland|   1753087021|  1753087021|   4.4327| 42.5747|      11277.6|    false|  208.22|    210.43|            0|   NULL|     11772.9|  3071|false|              0|    NULL|\n",
      "|   1753087022|4b1818|  SWR2HX|   Switzerland|   1753087021|  1753087021|   2.3704| 49.0855|      2484.12|    false|  156.29|      6.24|        17.56|   NULL|      2476.5|  1000|false|              0|    NULL|\n",
      "|   1753087022|a8a812|  N657PT| United States|   1753087021|  1753087022|   1.4385| 51.4047|      7627.62|    false|  215.83|    125.39|        12.68|   NULL|      7658.1|  2707|false|              0|    NULL|\n",
      "|   1753087022|408120|        |United Kingdom|         NULL|  1753087020|     NULL|    NULL|         NULL|    false|  262.47|     91.57|            0|   NULL|        NULL|  NULL|false|              0|    NULL|\n",
      "|   1753087022|88044a| AIQ4112|      Thailand|   1753087021|  1753087021|  99.5936| 10.6038|      10972.8|    false|  244.41|    197.14|            0|   NULL|    11673.84|  NULL|false|              0|    NULL|\n",
      "|   1753087022|aa56db| UAL1317| United States|   1753087022|  1753087022|-120.8229|  38.686|      9212.58|    false|  255.02|     51.88|         7.15|   NULL|      9677.4|  3373|false|              0|    NULL|\n",
      "|   1753087022|408124|  EXS14H|United Kingdom|   1753087022|  1753087022|  14.8019| 35.7827|      1996.44|    false|  141.17|    167.58|        -3.25|   NULL|      2171.7|  2711|false|              0|    NULL|\n",
      "|   1753087022|39de4a| TVF97NG|        France|   1753087021|  1753087021|  -0.1466| 44.6463|     11285.22|    false|  211.92|     211.3|            0|   NULL|    11673.84|  7616|false|              0|    NULL|\n",
      "|   1753087022|88044f| AIQ1041|      Thailand|   1753087018|  1753087021| 100.6325| 14.3015|      2072.64|    false|  115.47|    164.23|        -6.18|   NULL|     2141.22|  NULL|false|              0|    NULL|\n",
      "|   1753087022|39de4d| TVF29UL|        France|   1753087020|  1753087021|   3.5928| 48.1533|      5044.44|    false|  204.21|    349.26|       -11.38|   NULL|     5120.64|  2404|false|              0|    NULL|\n",
      "|   1753087022|408121|  VIR12E|United Kingdom|   1753087021|  1753087021|  -1.8319| 51.3629|       4991.1|    false|  172.99|     96.66|         -6.5|   NULL|      4991.1|  5174|false|              0|    NULL|\n",
      "|   1753087022|39de4c| TVF97TG|        France|   1753087021|  1753087021|  11.4354| 40.7696|     11574.78|    false|   224.9|    338.95|        -0.33|   NULL|    12222.48|  NULL|false|              0|    NULL|\n",
      "|   1753087022|7c6b2b|  JST248|     Australia|   1753087021|  1753087021| 172.7295|-42.9598|      6141.72|    false|  202.85|     22.99|         10.4|   NULL|     6156.96|  NULL|false|              0|    NULL|\n",
      "|   1753087022|801642|  AXB264|         India|   1753086736|  1753086736| 100.7445| 13.6803|         NULL|     true|   12.35|    284.06|         NULL|   NULL|        NULL|  NULL|false|              0|    NULL|\n",
      "|   1753087022|880459|  AIQ243|      Thailand|   1753086965|  1753086965| 125.4442| 28.1466|      10972.8|    false|  232.27|    231.02|            0|   NULL|    11742.42|  NULL|false|              0|    NULL|\n",
      "|   1753087022|801645| AIC2717|         India|   1753087017|  1753087017|  77.6825| 14.3309|        10668|    false|  233.06|    179.37|            0|   NULL|    11292.84|  NULL|false|              0|    NULL|\n",
      "|   1753087022|a1abef|  N2069Q| United States|   1753087022|  1753087022|  28.6989|-25.4788|      5265.42|    false|  158.01|    247.61|       -12.35|   NULL|     5509.26|  7411|false|              0|    NULL|\n",
      "|   1753087022|842194|   ADO67|         Japan|   1753087021|  1753087021|  140.166| 37.1296|     10767.06|    false|  230.52|    358.85|         9.43|   NULL|    11475.72|  2007|false|              0|    NULL|\n",
      "|   1753087022|440da5| EJU81MA|       Austria|   1753087021|  1753087021|  13.3921| 50.9855|      8397.24|    false|  241.82|     14.54|        -6.83|   NULL|        8763|  1000|false|              0|    NULL|\n",
      "|   1753087022|880454| AIQ5500|      Thailand|   1753087009|  1753087018|  99.2026|  18.677|      3017.52|    false|   154.1|    123.42|        11.05|   NULL|     3108.96|  NULL|false|              0|    NULL|\n",
      "+-------------+------+--------+--------------+-------------+------------+---------+--------+-------------+---------+--------+----------+-------------+-------+------------+------+-----+---------------+--------+\n",
      "only showing top 20 rows\n",
      "\n"
     ]
    }
   ],
   "source": [
    "# Remove trailing spaces from callsign column (Trimming) \n",
    "flights_df = flights_df.withColumn(\"callsign\", trim(col(\"callsign\")))\n",
    "\n",
    "# # Convert altitude (geometric and barometric) from meters to feat, for easy readability\n",
    "# flights_df = flights_df.withColumn(\"baro_altitude_ft\", col(\"baro_altitude\") * 3.28084) \\\n",
    "#                       .withColumn(\"geo_altitude_ft\", col(\"geo_altitude\") * 3.28084)\n",
    "\n",
    "# # Convert velocity from m/s to m/h, for easy readability\n",
    "# flights_df = flights_df.withColumn(\"velocity_mph\", col(\"velocity\") * 2.23694)\n",
    "\n",
    "\n",
    "print(\"Flight data extracted successfully.\")\n",
    "\n",
    "flights_df.show()\n"
   ]
  },
  {
   "cell_type": "code",
   "execution_count": 14,
   "id": "66e59b40",
   "metadata": {},
   "outputs": [
    {
     "name": "stderr",
     "output_type": "stream",
     "text": [
      "[Stage 8:>                                                          (0 + 3) / 3]\r"
     ]
    },
    {
     "name": "stdout",
     "output_type": "stream",
     "text": [
      "+------+--------------------+--------------+------------------+-------------------+-------+----+----+--------+\n",
      "|    id|                name|          type|          latitude|          longitude|country|icao|iata|gps_code|\n",
      "+------+--------------------+--------------+------------------+-------------------+-------+----+----+--------+\n",
      "| 31542|Gasmata Island Ai...| small_airport|    -6.27111005783|      150.330993652|     PG|AYGT| GMI|    AYGT|\n",
      "|307247|     Woitape Airport| small_airport|         -8.545833|           147.2525|     PG|AYWT| WTP|    AYWT|\n",
      "|  1826|Hudson's Hope Air...| small_airport|         56.035142|        -121.978326|     CA|CYNH| YNH|    CYNH|\n",
      "|  1838|Rainbow Lake Airport|medium_airport|         58.491402|        -119.407997|     CA|CYOP| YOP|    CYOP|\n",
      "|  1928|Montreal / Pierre...| large_airport|         45.467837|         -73.742294|     CA|CYUL| YUL|    CYUL|\n",
      "|  2557|     Thisted Airport|medium_airport|         57.068802|            8.70522|     DK|EKTS| TED|    EKTS|\n",
      "|  2873|Bangui M'Poko Int...|medium_airport|  4.39847993850708| 18.518800735473633|     CF|FEFF| BGF|    FEFF|\n",
      "| 32630|Ambatondrazaka Ai...| small_airport|        -17.795378|          48.442583|     MG|FMMZ| WAM|    FMMZ|\n",
      "|311386|      Gasuke Airport| small_airport|           -6.1028|           141.7393|     PG|AYGS| GBC|    AYGS|\n",
      "|312938|       Imane Airport| small_airport|           -6.7524|           146.1072|     PG|AYII| IMN|    AYII|\n",
      "| 42762|        Lumi Airport| small_airport|    -3.47683951134|      142.041292191|     PG|AYLU| LMI|    AYLU|\n",
      "| 32246|Sauðárkrókur Airport| small_airport| 65.73169708249999|-19.572799682599996|     IS|BIKR| SAK|    BIKR|\n",
      "|  1712|        Nain Airport| small_airport|         56.550778|         -61.682224|     CA|CYDP| YDP|    CYDP|\n",
      "|  1727|  Amos/Magny Airport|medium_airport|         48.563903|         -78.249702|     CA|CYEY| YEY|    CYEY|\n",
      "|  1293|Barrie-Lake Simco...|medium_airport|         44.485056|         -79.554663|     CA|CYLS| YLK|    CYLS|\n",
      "|  1867|     Windsor Airport|medium_airport| 42.27560043334961| -82.95559692382812|     CA|CYQG| YQG|    CYQG|\n",
      "|  1939|    Kuujjuaq Airport|medium_airport|58.096099853515625|  -68.4269027709961|     CA|CYVP| YVP|    CYVP|\n",
      "|  1964|Beaver Creek Airport|medium_airport|62.410301208496094|-140.86700439453125|     CA|CYXQ| YXQ|    CYXQ|\n",
      "| 32280|     Séguéla Airport| small_airport|              7.96|          -6.644167|     CI|DISG| SEO|    DISG|\n",
      "|  2101|   San Pedro Airport|medium_airport|           4.74672|           -6.66082|     CI|DISP| SPY|    DISP|\n",
      "+------+--------------------+--------------+------------------+-------------------+-------+----+----+--------+\n",
      "only showing top 20 rows\n",
      "\n"
     ]
    },
    {
     "name": "stderr",
     "output_type": "stream",
     "text": [
      "                                                                                \r"
     ]
    }
   ],
   "source": [
    "# Deriving dim_airports\n",
    "\n",
    "dim_airports = spark.read.csv(\"data/airports.csv\", header= True, inferSchema=True)\n",
    "\n",
    "dim_airports = dim_airports.select(\n",
    "                            col(\"id\"),\n",
    "                            col(\"name\"),\n",
    "                            col(\"type\"), \n",
    "                            col(\"latitude_deg\").alias(\"latitude\"), \n",
    "                            col(\"longitude_deg\").alias(\"longitude\"),\n",
    "                            col(\"iso_country\").alias(\"country\"),\n",
    "                            col(\"icao_code\").alias(\"icao\"),\n",
    "                            col(\"iata_code\").alias(\"iata\"),\n",
    "                            col(\"gps_code\"),\n",
    "                        ).dropDuplicates()\n",
    "\n",
    "dim_airports.show()"
   ]
  },
  {
   "cell_type": "code",
   "execution_count": 15,
   "id": "ec36ff1c",
   "metadata": {},
   "outputs": [
    {
     "name": "stderr",
     "output_type": "stream",
     "text": [
      "[Stage 11:>                                                         (0 + 3) / 3]\r"
     ]
    },
    {
     "name": "stdout",
     "output_type": "stream",
     "text": [
      "+------+--------------------+--------------+--------------+-------------+-------+----+----+--------+\n",
      "|    id|                name|          type|      latitude|    longitude|country|icao|iata|gps_code|\n",
      "+------+--------------------+--------------+--------------+-------------+-------+----+----+--------+\n",
      "| 31542|Gasmata Island Ai...| small_airport|-6.27111005783|150.330993652|     PG|AYGT| GMI|    AYGT|\n",
      "|307247|     Woitape Airport| small_airport|     -8.545833|     147.2525|     PG|AYWT| WTP|    AYWT|\n",
      "|  1826|Hudson's Hope Air...| small_airport|     56.035142|  -121.978326|     CA|CYNH| YNH|    CYNH|\n",
      "|  1838|Rainbow Lake Airport|medium_airport|     58.491402|  -119.407997|     CA|CYOP| YOP|    CYOP|\n",
      "|  1928|Montreal / Pierre...| large_airport|     45.467837|   -73.742294|     CA|CYUL| YUL|    CYUL|\n",
      "+------+--------------------+--------------+--------------+-------------+-------+----+----+--------+\n",
      "only showing top 5 rows\n",
      "\n"
     ]
    },
    {
     "name": "stderr",
     "output_type": "stream",
     "text": [
      "                                                                                \r"
     ]
    }
   ],
   "source": [
    "# Leaving the list of airports to only big, medium and small. Filtering out closed, \n",
    "# heliports, balloonport, large_airport, seaplane_base.. e.t.c\n",
    "\n",
    "dim_airports = dim_airports.filter(dim_airports[\"type\"].isin(['large_airport', 'medium_airport', 'small_airport']))\n",
    "\n",
    "dim_airports.show(5)"
   ]
  },
  {
   "cell_type": "code",
   "execution_count": 16,
   "id": "9179dbc9",
   "metadata": {},
   "outputs": [
    {
     "name": "stdout",
     "output_type": "stream",
     "text": [
      "id  NULLS ====>  0\n",
      "name  NULLS ====>  0\n",
      "type  NULLS ====>  0\n",
      "latitude  NULLS ====>  0\n",
      "longitude  NULLS ====>  0\n",
      "country  NULLS ====>  0\n",
      "icao  NULLS ====>  38715\n"
     ]
    },
    {
     "name": "stderr",
     "output_type": "stream",
     "text": [
      "                                                                                \r"
     ]
    },
    {
     "name": "stdout",
     "output_type": "stream",
     "text": [
      "iata  NULLS ====>  38609\n",
      "gps_code  NULLS ====>  15108\n"
     ]
    }
   ],
   "source": [
    "# Identifying null values in dim_airports\n",
    "\n",
    "for column in dim_airports.columns:\n",
    "    print(column, \" NULLS ====> \" , dim_airports.filter(dim_airports[column].isNull()).count())"
   ]
  },
  {
   "cell_type": "code",
   "execution_count": 17,
   "id": "25a87cee",
   "metadata": {},
   "outputs": [],
   "source": [
    "# Fill up of unknown values\n",
    "\n",
    "dim_airports = dim_airports.fillna({\n",
    "    \"icao\": \"Unknown\",\n",
    "    \"iata\": \"Unknown\",\n",
    "    \"gps_code\": \"Unknown\"\n",
    "})"
   ]
  },
  {
   "cell_type": "code",
   "execution_count": 18,
   "id": "4bf25d68",
   "metadata": {},
   "outputs": [],
   "source": [
    "# Defining a udf to calculate accurate distance\n",
    "\n",
    "@udf(returnType=DoubleType())\n",
    "def geo_distance_in_km(lat1,lon1, lat2, lon2):\n",
    "    if lat1 is None or lon1 is None or lat2 is None or lon2 is None:\n",
    "        return None\n",
    "\n",
    "    return geodesic((lat1,lon1), (lat2,lon2)).km\n",
    "\n"
   ]
  },
  {
   "cell_type": "code",
   "execution_count": 19,
   "id": "3776440c",
   "metadata": {},
   "outputs": [
    {
     "name": "stdout",
     "output_type": "stream",
     "text": [
      "+-------------+------+--------+--------------+-------------+------------+---------+--------+-------------+---------+--------+----------+-------------+-------+------------+------+-----+---------------+--------+--------+--------+--------------------+-------------------+\n",
      "|snapshot_time|icao24|callsign|origin_country|time_position|last_contact|longitude|latitude|baro_altitude|on_ground|velocity|true_track|vertical_rate|sensors|geo_altitude|squawk|  spi|position_source|category| lat_min| lat_max|            long_min|           long_max|\n",
      "+-------------+------+--------+--------------+-------------+------------+---------+--------+-------------+---------+--------+----------+-------------+-------+------------+------+-----+---------------+--------+--------+--------+--------------------+-------------------+\n",
      "|   1753087022|4b1815|  SWR3YX|   Switzerland|   1753087021|  1753087021|   4.4327| 42.5747|      11277.6|    false|  208.22|    210.43|            0|   NULL|     11772.9|  3071|false|              0|    NULL| 41.0747| 44.0747|  2.9326999999999996|             5.9327|\n",
      "|   1753087022|4b1818|  SWR2HX|   Switzerland|   1753087021|  1753087021|   2.3704| 49.0855|      2484.12|    false|  156.29|      6.24|        17.56|   NULL|      2476.5|  1000|false|              0|    NULL| 47.5855| 50.5855|  0.8704000000000001|             3.8704|\n",
      "|   1753087022|a8a812|  N657PT| United States|   1753087021|  1753087022|   1.4385| 51.4047|      7627.62|    false|  215.83|    125.39|        12.68|   NULL|      7658.1|  2707|false|              0|    NULL| 49.9047| 52.9047|-0.06150000000000011|             2.9385|\n",
      "|   1753087022|408120|        |United Kingdom|         NULL|  1753087020|     NULL|    NULL|         NULL|    false|  262.47|     91.57|            0|   NULL|        NULL|  NULL|false|              0|    NULL|    NULL|    NULL|                NULL|               NULL|\n",
      "|   1753087022|88044a| AIQ4112|      Thailand|   1753087021|  1753087021|  99.5936| 10.6038|      10972.8|    false|  244.41|    197.14|            0|   NULL|    11673.84|  NULL|false|              0|    NULL|  9.1038| 12.1038|             98.0936|           101.0936|\n",
      "|   1753087022|aa56db| UAL1317| United States|   1753087022|  1753087022|-120.8229|  38.686|      9212.58|    false|  255.02|     51.88|         7.15|   NULL|      9677.4|  3373|false|              0|    NULL|  37.186|  40.186|           -122.3229|          -119.3229|\n",
      "|   1753087022|408124|  EXS14H|United Kingdom|   1753087022|  1753087022|  14.8019| 35.7827|      1996.44|    false|  141.17|    167.58|        -3.25|   NULL|      2171.7|  2711|false|              0|    NULL| 34.2827| 37.2827|             13.3019|            16.3019|\n",
      "|   1753087022|39de4a| TVF97NG|        France|   1753087021|  1753087021|  -0.1466| 44.6463|     11285.22|    false|  211.92|     211.3|            0|   NULL|    11673.84|  7616|false|              0|    NULL| 43.1463| 46.1463|             -1.6466|             1.3534|\n",
      "|   1753087022|88044f| AIQ1041|      Thailand|   1753087018|  1753087021| 100.6325| 14.3015|      2072.64|    false|  115.47|    164.23|        -6.18|   NULL|     2141.22|  NULL|false|              0|    NULL| 12.8015| 15.8015|             99.1325|           102.1325|\n",
      "|   1753087022|39de4d| TVF29UL|        France|   1753087020|  1753087021|   3.5928| 48.1533|      5044.44|    false|  204.21|    349.26|       -11.38|   NULL|     5120.64|  2404|false|              0|    NULL| 46.6533| 49.6533|              2.0928|             5.0928|\n",
      "|   1753087022|408121|  VIR12E|United Kingdom|   1753087021|  1753087021|  -1.8319| 51.3629|       4991.1|    false|  172.99|     96.66|         -6.5|   NULL|      4991.1|  5174|false|              0|    NULL| 49.8629| 52.8629|             -3.3319|-0.3319000000000001|\n",
      "|   1753087022|39de4c| TVF97TG|        France|   1753087021|  1753087021|  11.4354| 40.7696|     11574.78|    false|   224.9|    338.95|        -0.33|   NULL|    12222.48|  NULL|false|              0|    NULL| 39.2696| 42.2696|              9.9354|            12.9354|\n",
      "|   1753087022|7c6b2b|  JST248|     Australia|   1753087021|  1753087021| 172.7295|-42.9598|      6141.72|    false|  202.85|     22.99|         10.4|   NULL|     6156.96|  NULL|false|              0|    NULL|-44.4598|-41.4598|            171.2295|           174.2295|\n",
      "|   1753087022|801642|  AXB264|         India|   1753086736|  1753086736| 100.7445| 13.6803|         NULL|     true|   12.35|    284.06|         NULL|   NULL|        NULL|  NULL|false|              0|    NULL| 12.1803| 15.1803|             99.2445|           102.2445|\n",
      "|   1753087022|880459|  AIQ243|      Thailand|   1753086965|  1753086965| 125.4442| 28.1466|      10972.8|    false|  232.27|    231.02|            0|   NULL|    11742.42|  NULL|false|              0|    NULL| 26.6466| 29.6466|            123.9442|           126.9442|\n",
      "|   1753087022|801645| AIC2717|         India|   1753087017|  1753087017|  77.6825| 14.3309|        10668|    false|  233.06|    179.37|            0|   NULL|    11292.84|  NULL|false|              0|    NULL| 12.8309| 15.8309|             76.1825|            79.1825|\n",
      "|   1753087022|a1abef|  N2069Q| United States|   1753087022|  1753087022|  28.6989|-25.4788|      5265.42|    false|  158.01|    247.61|       -12.35|   NULL|     5509.26|  7411|false|              0|    NULL|-26.9788|-23.9788|             27.1989|            30.1989|\n",
      "|   1753087022|842194|   ADO67|         Japan|   1753087021|  1753087021|  140.166| 37.1296|     10767.06|    false|  230.52|    358.85|         9.43|   NULL|    11475.72|  2007|false|              0|    NULL| 35.6296| 38.6296|             138.666|            141.666|\n",
      "|   1753087022|440da5| EJU81MA|       Austria|   1753087021|  1753087021|  13.3921| 50.9855|      8397.24|    false|  241.82|     14.54|        -6.83|   NULL|        8763|  1000|false|              0|    NULL| 49.4855| 52.4855|             11.8921|            14.8921|\n",
      "|   1753087022|880454| AIQ5500|      Thailand|   1753087009|  1753087018|  99.2026|  18.677|      3017.52|    false|   154.1|    123.42|        11.05|   NULL|     3108.96|  NULL|false|              0|    NULL|  17.177|  20.177|             97.7026|           100.7026|\n",
      "+-------------+------+--------+--------------+-------------+------------+---------+--------+-------------+---------+--------+----------+-------------+-------+------------+------+-----+---------------+--------+--------+--------+--------------------+-------------------+\n",
      "only showing top 20 rows\n",
      "\n"
     ]
    }
   ],
   "source": [
    "#  Creating a bounding box for each flight's long and lat\n",
    "\n",
    "delta = 1.5\n",
    "\n",
    "flights_boundings = flights_df.withColumn(\"lat_min\", col(\"latitude\") - delta) \\\n",
    "                            .withColumn(\"lat_max\", col(\"latitude\") + delta) \\\n",
    "                            .withColumn(\"long_min\", col(\"longitude\") - delta) \\\n",
    "                            .withColumn(\"long_max\", col(\"longitude\") + delta)\n",
    "\n",
    "flights_boundings.show()\n",
    "                            "
   ]
  },
  {
   "cell_type": "code",
   "execution_count": 20,
   "id": "f37602f6",
   "metadata": {},
   "outputs": [
    {
     "name": "stderr",
     "output_type": "stream",
     "text": [
      "25/07/21 11:36:05 WARN SparkStringUtils: Truncated the string representation of a plan since it was too large. This behavior can be adjusted by setting 'spark.sql.debug.maxToStringFields'.\n",
      "[Stage 54:>                                                         (0 + 1) / 1]\r"
     ]
    },
    {
     "name": "stdout",
     "output_type": "stream",
     "text": [
      "+-------------+------+--------+--------------+-------------+------------+---------+--------+-------------+---------+--------+----------+-------------+-------+------------+------+-----+---------------+--------+-------+-------+------------------+--------+--------------------+----------+--------------------+--------------+-----------+------------+---------------+------------+------------+----------------+\n",
      "|snapshot_time|icao24|callsign|origin_country|time_position|last_contact|longitude|latitude|baro_altitude|on_ground|velocity|true_track|vertical_rate|sensors|geo_altitude|squawk|  spi|position_source|category|lat_min|lat_max|          long_min|long_max|        airport_name|airport_id|        airport_name|  airport_type|airport_lat|airport_long|airport_country|airport_icao|airport_iata|airport_gps_code|\n",
      "+-------------+------+--------+--------------+-------------+------------+---------+--------+-------------+---------+--------+----------+-------------+-------+------------+------+-----+---------------+--------+-------+-------+------------------+--------+--------------------+----------+--------------------+--------------+-----------+------------+---------------+------------+------------+----------------+\n",
      "|   1753087022|4b1815|  SWR3YX|   Switzerland|   1753087021|  1753087021|   4.4327| 42.5747|      11277.6|    false|  208.22|    210.43|            0|   NULL|     11772.9|  3071|false|              0|    NULL|41.0747|44.0747|2.9326999999999996|  5.9327|Avignon-Caumont A...|      4163|Avignon-Caumont A...|medium_airport|  43.907299|     4.90183|             FR|        LFMV|         AVN|            LFMV|\n",
      "|   1753087022|4b1815|  SWR3YX|   Switzerland|   1753087021|  1753087021|   4.4327| 42.5747|      11277.6|    false|  208.22|    210.43|            0|   NULL|     11772.9|  3071|false|              0|    NULL|41.0747|44.0747|2.9326999999999996|  5.9327|Nîmes-Arles-Camar...|      4242|Nîmes-Arles-Camar...|medium_airport|  43.757401|     4.41635|             FR|        LFTW|         FNI|            LFTW|\n",
      "|   1753087022|4b1815|  SWR3YX|   Switzerland|   1753087021|  1753087021|   4.4327| 42.5747|      11277.6|    false|  208.22|    210.43|            0|   NULL|     11772.9|  3071|false|              0|    NULL|41.0747|44.0747|2.9326999999999996|  5.9327|Remoulins Private...|    529222|Remoulins Private...| small_airport|  43.947364|    4.583427|             FR|     Unknown|     Unknown|         Unknown|\n",
      "|   1753087022|4b1815|  SWR3YX|   Switzerland|   1753087021|  1753087021|   4.4327| 42.5747|      11277.6|    false|  208.22|    210.43|            0|   NULL|     11772.9|  3071|false|              0|    NULL|41.0747|44.0747|2.9326999999999996|  5.9327|  Aeròdrom de Llabiá|    321131|  Aeròdrom de Llabiá| small_airport|  42.011798|    3.089483|             ES|     Unknown|     Unknown|         Unknown|\n",
      "|   1753087022|4b1815|  SWR3YX|   Switzerland|   1753087021|  1753087021|   4.4327| 42.5747|      11277.6|    false|  208.22|    210.43|            0|   NULL|     11772.9|  3071|false|              0|    NULL|41.0747|44.0747|2.9326999999999996|  5.9327|     Tornac Airfield|    529221|     Tornac Airfield| small_airport|  44.012222|    3.963333|             FR|     Unknown|     Unknown|         Unknown|\n",
      "|   1753087022|4b1815|  SWR3YX|   Switzerland|   1753087021|  1753087021|   4.4327| 42.5747|      11277.6|    false|  208.22|    210.43|            0|   NULL|     11772.9|  3071|false|              0|    NULL|41.0747|44.0747|2.9326999999999996|  5.9327|  La Limate Airfield|    529099|  La Limate Airfield| small_airport|   43.25892|    5.882615|             FR|     Unknown|     Unknown|         Unknown|\n",
      "|   1753087022|4b1815|  SWR3YX|   Switzerland|   1753087021|  1753087021|   4.4327| 42.5747|      11277.6|    false|  208.22|    210.43|            0|   NULL|     11772.9|  3071|false|              0|    NULL|41.0747|44.0747|2.9326999999999996|  5.9327| Pourrières Airfield|    529096| Pourrières Airfield| small_airport|      43.48|    5.710278|             FR|     Unknown|     Unknown|         Unknown|\n",
      "|   1753087022|4b1815|  SWR3YX|   Switzerland|   1753087021|  1753087021|   4.4327| 42.5747|      11277.6|    false|  208.22|    210.43|            0|   NULL|     11772.9|  3071|false|              0|    NULL|41.0747|44.0747|2.9326999999999996|  5.9327|    Oraison Airfield|    529087|    Oraison Airfield| small_airport|  43.921888|    5.904283|             FR|     Unknown|     Unknown|         Unknown|\n",
      "|   1753087022|4b1815|  SWR3YX|   Switzerland|   1753087021|  1753087021|   4.4327| 42.5747|      11277.6|    false|  208.22|    210.43|            0|   NULL|     11772.9|  3071|false|              0|    NULL|41.0747|44.0747|2.9326999999999996|  5.9327| Aeroclub L’Estartit|    321113| Aeroclub L’Estartit| small_airport| 42.0310336|   3.1793314|             ES|     Unknown|     Unknown|         Unknown|\n",
      "|   1753087022|4b1815|  SWR3YX|   Switzerland|   1753087021|  1753087021|   4.4327| 42.5747|      11277.6|    false|  208.22|    210.43|            0|   NULL|     11772.9|  3071|false|              0|    NULL|41.0747|44.0747|2.9326999999999996|  5.9327|Saint-Suffren Pri...|    332530|Saint-Suffren Pri...| small_airport|  43.644951|    5.312621|             FR|     Unknown|     Unknown|         Unknown|\n",
      "|   1753087022|4b1815|  SWR3YX|   Switzerland|   1753087021|  1753087021|   4.4327| 42.5747|      11277.6|    false|  208.22|    210.43|            0|   NULL|     11772.9|  3071|false|              0|    NULL|41.0747|44.0747|2.9326999999999996|  5.9327|Cruis Mas des Gra...|    529088|Cruis Mas des Gra...| small_airport|  44.060278|    5.853056|             FR|     Unknown|     Unknown|         Unknown|\n",
      "|   1753087022|4b1815|  SWR3YX|   Switzerland|   1753087021|  1753087021|   4.4327| 42.5747|      11277.6|    false|  208.22|    210.43|            0|   NULL|     11772.9|  3071|false|              0|    NULL|41.0747|44.0747|2.9326999999999996|  5.9327|Puisserguier Airf...|    528887|Puisserguier Airf...| small_airport|  43.398889|    3.033611|             FR|     Unknown|     Unknown|         Unknown|\n",
      "|   1753087022|4b1815|  SWR3YX|   Switzerland|   1753087021|  1753087021|   4.4327| 42.5747|      11277.6|    false|  208.22|    210.43|            0|   NULL|     11772.9|  3071|false|              0|    NULL|41.0747|44.0747|2.9326999999999996|  5.9327|Edgar Soumille Ai...|      4167|Edgar Soumille Ai...| small_airport|  44.027689|    5.084255|             FR|     Unknown|     Unknown|            LFNH|\n",
      "|   1753087022|4b1815|  SWR3YX|   Switzerland|   1753087021|  1753087021|   4.4327| 42.5747|      11277.6|    false|  208.22|    210.43|            0|   NULL|     11772.9|  3071|false|              0|    NULL|41.0747|44.0747|2.9326999999999996|  5.9327|Aix-Les Milles Ai...|      4149|Aix-Les Milles Ai...| small_airport|  43.506294|    5.366426|             FR|        LFMA|     Unknown|            LFMA|\n",
      "|   1753087022|4b1815|  SWR3YX|   Switzerland|   1753087021|  1753087021|   4.4327| 42.5747|      11277.6|    false|  208.22|    210.43|            0|   NULL|     11772.9|  3071|false|              0|    NULL|41.0747|44.0747|2.9326999999999996|  5.9327|Aérodrome de Mont...|     28943|Aérodrome de Mont...| small_airport|  43.610298|     4.07028|             FR|     Unknown|     Unknown|            LFNG|\n",
      "|   1753087022|4b1815|  SWR3YX|   Switzerland|   1753087021|  1753087021|   4.4327| 42.5747|      11277.6|    false|  208.22|    210.43|            0|   NULL|     11772.9|  3071|false|              0|    NULL|41.0747|44.0747|2.9326999999999996|  5.9327|Aérodrome d'Eygui...|     28941|Aérodrome d'Eygui...| small_airport|  43.658298|     5.01361|             FR|     Unknown|     Unknown|            LFNE|\n",
      "|   1753087022|4b1815|  SWR3YX|   Switzerland|   1753087021|  1753087021|   4.4327| 42.5747|      11277.6|    false|  208.22|    210.43|            0|   NULL|     11772.9|  3071|false|              0|    NULL|41.0747|44.0747|2.9326999999999996|  5.9327|Montpellier-Médit...|      4161|Montpellier-Médit...|medium_airport|  43.576199|     3.96301|             FR|        LFMT|         MPL|            LFMT|\n",
      "|   1753087022|4b1815|  SWR3YX|   Switzerland|   1753087021|  1753087021|   4.4327| 42.5747|      11277.6|    false|  208.22|    210.43|            0|   NULL|     11772.9|  3071|false|              0|    NULL|41.0747|44.0747|2.9326999999999996|  5.9327|Béziers-Vias Airport|      4162|Béziers-Vias Airport|medium_airport|  43.323502|      3.3539|             FR|        LFMU|         BZR|            LFMU|\n",
      "|   1753087022|4b1815|  SWR3YX|   Switzerland|   1753087021|  1753087021|   4.4327| 42.5747|      11277.6|    false|  208.22|    210.43|            0|   NULL|     11772.9|  3071|false|              0|    NULL|41.0747|44.0747|2.9326999999999996|  5.9327|Les champs blancs...|    528892|Les champs blancs...| small_airport|  43.294444|    3.474444|             FR|     Unknown|     Unknown|         Unknown|\n",
      "|   1753087022|4b1815|  SWR3YX|   Switzerland|   1753087021|  1753087021|   4.4327| 42.5747|      11277.6|    false|  208.22|    210.43|            0|   NULL|     11772.9|  3071|false|              0|    NULL|41.0747|44.0747|2.9326999999999996|  5.9327|     Pignan Airfield|    528890|     Pignan Airfield| small_airport|  43.568333|    3.750556|             FR|     Unknown|     Unknown|         Unknown|\n",
      "+-------------+------+--------+--------------+-------------+------------+---------+--------+-------------+---------+--------+----------+-------------+-------+------------+------+-----+---------------+--------+-------+-------+------------------+--------+--------------------+----------+--------------------+--------------+-----------+------------+---------------+------------+------------+----------------+\n",
      "only showing top 20 rows\n",
      "\n"
     ]
    },
    {
     "name": "stderr",
     "output_type": "stream",
     "text": [
      "                                                                                \r"
     ]
    }
   ],
   "source": [
    "# Join for flights and dim_airports (Only cross joining \n",
    "# flights with airports whose locations are within the flight's bounding box)\n",
    "\n",
    "flights_x_airs = flights_boundings.alias(\"flight\") \\\n",
    "                     .join(dim_airports.alias(\"airport\"), \\\n",
    "                                (col(\"airport.latitude\") >= col(\"flight.lat_min\")) & (col(\"airport.latitude\") <= col(\"flight.lat_max\")) & \\\n",
    "                                (col(\"airport.longitude\") >= col(\"flight.long_min\")) & (col(\"airport.longitude\") <= col(\"flight.long_max\")) \\\n",
    "                                ) \\\n",
    "                     .select(\n",
    "                         \"flight.*\",\n",
    "                         col(\"airport.name\").alias(\"airport_name\"),\n",
    "                         col(\"airport.id\").alias(\"airport_id\"),                \n",
    "                         col(\"airport.name\").alias(\"airport_name\"),          \n",
    "                         col(\"airport.type\").alias(\"airport_type\"),      \n",
    "                         col(\"airport.latitude\").alias(\"airport_lat\"),\n",
    "                         col(\"airport.longitude\").alias(\"airport_long\"),\n",
    "                         col(\"airport.country\").alias(\"airport_country\"),\n",
    "                         col(\"airport.icao\").alias(\"airport_icao\"),\n",
    "                         col(\"airport.iata\").alias(\"airport_iata\"),\n",
    "                         col(\"airport.gps_code\").alias(\"airport_gps_code\")\n",
    "                     )\n",
    "\n",
    "flights_x_airs.show()"
   ]
  },
  {
   "cell_type": "code",
   "execution_count": 21,
   "id": "535b3e98",
   "metadata": {},
   "outputs": [
    {
     "name": "stderr",
     "output_type": "stream",
     "text": [
      "[Stage 58:>                                                         (0 + 1) / 1]\r"
     ]
    },
    {
     "name": "stdout",
     "output_type": "stream",
     "text": [
      "+-------------+------+--------+--------------+-------------+------------+---------+--------+-------------+---------+--------+----------+-------------+-------+------------+------+-----+---------------+--------+-------+-------+------------------+--------+--------------------+----------+--------------------+--------------+-----------+------------+---------------+------------+------------+----------------+------------------+\n",
      "|snapshot_time|icao24|callsign|origin_country|time_position|last_contact|longitude|latitude|baro_altitude|on_ground|velocity|true_track|vertical_rate|sensors|geo_altitude|squawk|  spi|position_source|category|lat_min|lat_max|          long_min|long_max|        airport_name|airport_id|        airport_name|  airport_type|airport_lat|airport_long|airport_country|airport_icao|airport_iata|airport_gps_code|       distance_km|\n",
      "+-------------+------+--------+--------------+-------------+------------+---------+--------+-------------+---------+--------+----------+-------------+-------+------------+------+-----+---------------+--------+-------+-------+------------------+--------+--------------------+----------+--------------------+--------------+-----------+------------+---------------+------------+------------+----------------+------------------+\n",
      "|   1753087022|4b1815|  SWR3YX|   Switzerland|   1753087021|  1753087021|   4.4327| 42.5747|      11277.6|    false|  208.22|    210.43|            0|   NULL|     11772.9|  3071|false|              0|    NULL|41.0747|44.0747|2.9326999999999996|  5.9327|Avignon-Caumont A...|      4163|Avignon-Caumont A...|medium_airport|  43.907299|     4.90183|             FR|        LFMV|         AVN|            LFMV|152.87229958457462|\n",
      "|   1753087022|4b1815|  SWR3YX|   Switzerland|   1753087021|  1753087021|   4.4327| 42.5747|      11277.6|    false|  208.22|    210.43|            0|   NULL|     11772.9|  3071|false|              0|    NULL|41.0747|44.0747|2.9326999999999996|  5.9327|Nîmes-Arles-Camar...|      4242|Nîmes-Arles-Camar...|medium_airport|  43.757401|     4.41635|             FR|        LFTW|         FNI|            LFTW|131.40004692002867|\n",
      "|   1753087022|4b1815|  SWR3YX|   Switzerland|   1753087021|  1753087021|   4.4327| 42.5747|      11277.6|    false|  208.22|    210.43|            0|   NULL|     11772.9|  3071|false|              0|    NULL|41.0747|44.0747|2.9326999999999996|  5.9327|Remoulins Private...|    529222|Remoulins Private...| small_airport|  43.947364|    4.583427|             FR|     Unknown|     Unknown|         Unknown|152.99018055680534|\n",
      "|   1753087022|4b1815|  SWR3YX|   Switzerland|   1753087021|  1753087021|   4.4327| 42.5747|      11277.6|    false|  208.22|    210.43|            0|   NULL|     11772.9|  3071|false|              0|    NULL|41.0747|44.0747|2.9326999999999996|  5.9327|  Aeròdrom de Llabiá|    321131|  Aeròdrom de Llabiá| small_airport|  42.011798|    3.089483|             ES|     Unknown|     Unknown|         Unknown| 127.2001718572566|\n",
      "|   1753087022|4b1815|  SWR3YX|   Switzerland|   1753087021|  1753087021|   4.4327| 42.5747|      11277.6|    false|  208.22|    210.43|            0|   NULL|     11772.9|  3071|false|              0|    NULL|41.0747|44.0747|2.9326999999999996|  5.9327|     Tornac Airfield|    529221|     Tornac Airfield| small_airport|  44.012222|    3.963333|             FR|     Unknown|     Unknown|         Unknown|164.18503107171233|\n",
      "+-------------+------+--------+--------------+-------------+------------+---------+--------+-------------+---------+--------+----------+-------------+-------+------------+------+-----+---------------+--------+-------+-------+------------------+--------+--------------------+----------+--------------------+--------------+-----------+------------+---------------+------------+------------+----------------+------------------+\n",
      "only showing top 5 rows\n",
      "\n"
     ]
    },
    {
     "name": "stderr",
     "output_type": "stream",
     "text": [
      "                                                                                \r"
     ]
    }
   ],
   "source": [
    "# Calculate column distance_km between flights and airports to the joined df\n",
    "\n",
    "flights_x_airs = flights_x_airs.withColumn(\"distance_km\", \n",
    "                                            geo_distance_in_km(col(\"latitude\"), col(\"longitude\"), \n",
    "                                                               col(\"airport_lat\"), col(\"airport_long\") \n",
    "                                                            )\n",
    "                                          )\n",
    "\n",
    "flights_x_airs.show(5)"
   ]
  },
  {
   "cell_type": "code",
   "execution_count": 22,
   "id": "8f99e222",
   "metadata": {},
   "outputs": [
    {
     "name": "stderr",
     "output_type": "stream",
     "text": [
      "[Stage 62:>                                                         (0 + 1) / 1]\r"
     ]
    },
    {
     "name": "stdout",
     "output_type": "stream",
     "text": [
      "+-------------+------+--------+--------------+-------------+------------+---------+--------+-------------+---------+--------+----------+-------------+-------+------------+------+-----+---------------+--------+-------+-------+--------+--------+--------------------+----------+--------------------+--------------+-------------------+------------------+---------------+------------+------------+----------------+------------------+----+\n",
      "|snapshot_time|icao24|callsign|origin_country|time_position|last_contact|longitude|latitude|baro_altitude|on_ground|velocity|true_track|vertical_rate|sensors|geo_altitude|squawk|  spi|position_source|category|lat_min|lat_max|long_min|long_max|        airport_name|airport_id|        airport_name|  airport_type|        airport_lat|      airport_long|airport_country|airport_icao|airport_iata|airport_gps_code|       distance_km|rank|\n",
      "+-------------+------+--------+--------------+-------------+------------+---------+--------+-------------+---------+--------+----------+-------------+-------+------------+------+-----+---------------+--------+-------+-------+--------+--------+--------------------+----------+--------------------+--------------+-------------------+------------------+---------------+------------+------------+----------------+------------------+----+\n",
      "|   1753087022|00ae82| LNK277B|  South Africa|   1753087021|  1753087021|    28.67| -26.009|       5219.7|    false|     161|    249.42|        -8.45|   NULL|     5509.26|  2722|false|              0|    NULL|-27.509|-24.509|   27.17|   30.17|      Delmas Airport|     41204|      Delmas Airport| small_airport|-26.141666412353516|28.691667556762695|             ZA|     Unknown|     Unknown|            FADE|14.857020096157465|   1|\n",
      "|   1753087022|00ae82| LNK277B|  South Africa|   1753087021|  1753087021|    28.67| -26.009|       5219.7|    false|     161|    249.42|        -8.45|   NULL|     5509.26|  2722|false|              0|    NULL|-27.509|-24.509|   27.17|   30.17|  Aeropark Zyn Kraal|    342052|  Aeropark Zyn Kraal| small_airport|         -25.902761|           28.5473|             ZA|     Unknown|     Unknown|         Unknown|17.016212306279854|   2|\n",
      "|   1753087022|00ae82| LNK277B|  South Africa|   1753087021|  1753087021|    28.67| -26.009|       5219.7|    false|     161|    249.42|        -8.45|   NULL|     5509.26|  2722|false|              0|    NULL|-27.509|-24.509|   27.17|   30.17| Bapsfontein Airport|     41844| Bapsfontein Airport| small_airport|         -25.991908|         28.415932|             ZA|     Unknown|     Unknown|         Unknown|25.506990842160977|   3|\n",
      "|   1753087022|00ae82| LNK277B|  South Africa|   1753087021|  1753087021|    28.67| -26.009|       5219.7|    false|     161|    249.42|        -8.45|   NULL|     5509.26|  2722|false|              0|    NULL|-27.509|-24.509|   27.17|   30.17|Vanggatfontein Ai...|     41202|Vanggatfontein Ai...| small_airport|         -26.200001|         28.816668|             ZA|     Unknown|     Unknown|         Unknown| 25.74925247494793|   4|\n",
      "|   1753087022|00ae82| LNK277B|  South Africa|   1753087021|  1753087021|    28.67| -26.009|       5219.7|    false|     161|    249.42|        -8.45|   NULL|     5509.26|  2722|false|              0|    NULL|-27.509|-24.509|   27.17|   30.17|Bronkhorstspruit ...|     41194|Bronkhorstspruit ...| small_airport| -25.77138900756836|28.726943969726562|             ZA|     Unknown|     Unknown|         Unknown| 26.93544506421223|   5|\n",
      "|   1753087022|00ae82| LNK277B|  South Africa|   1753087021|  1753087021|    28.67| -26.009|       5219.7|    false|     161|    249.42|        -8.45|   NULL|     5509.26|  2722|false|              0|    NULL|-27.509|-24.509|   27.17|   30.17|  Kitty Hawk Airport|     27288|  Kitty Hawk Airport| small_airport|-25.860000610399997|     28.4500007629|             ZA|     Unknown|     Unknown|            FAKT|27.534727801504342|   6|\n",
      "|   1753087022|00ae82| LNK277B|  South Africa|   1753087021|  1753087021|    28.67| -26.009|       5219.7|    false|     161|    249.42|        -8.45|   NULL|     5509.26|  2722|false|              0|    NULL|-27.509|-24.509|   27.17|   30.17|Microland Flight ...|     31035|Microland Flight ...| small_airport|-25.976255771599998|     28.3890151978|             ZA|     Unknown|     Unknown|            FABA|28.366227087738068|   7|\n",
      "|   1753087022|00ae82| LNK277B|  South Africa|   1753087021|  1753087021|    28.67| -26.009|       5219.7|    false|     161|    249.42|        -8.45|   NULL|     5509.26|  2722|false|              0|    NULL|-27.509|-24.509|   27.17|   30.17|       Petit Airport|     41190|       Petit Airport| small_airport|     -26.0845963451|28.390386581399998|             ZA|     Unknown|     Unknown|            FARA|29.209601665247913|   8|\n",
      "|   1753087022|00ae82| LNK277B|  South Africa|   1753087021|  1753087021|    28.67| -26.009|       5219.7|    false|     161|    249.42|        -8.45|   NULL|     5509.26|  2722|false|              0|    NULL|-27.509|-24.509|   27.17|   30.17|   New Largo Airport|     41205|   New Largo Airport| small_airport|-25.978500366210938|28.984399795532227|             ZA|     Unknown|     Unknown|            FANL|31.659481063455836|   9|\n",
      "|   1753087022|00ae82| LNK277B|  South Africa|   1753087021|  1753087021|    28.67| -26.009|       5219.7|    false|     161|    249.42|        -8.45|   NULL|     5509.26|  2722|false|              0|    NULL|-27.509|-24.509|   27.17|   30.17|      Fly Inn Estate|    310578|      Fly Inn Estate| small_airport|     -25.9711496926|     28.3502766059|             ZA|     Unknown|     Unknown|         Unknown|32.286132561011584|  10|\n",
      "|   1753087022|00ae82| LNK277B|  South Africa|   1753087021|  1753087021|    28.67| -26.009|       5219.7|    false|     161|    249.42|        -8.45|   NULL|     5509.26|  2722|false|              0|    NULL|-27.509|-24.509|   27.17|   30.17|    Springs Airfield|      2837|    Springs Airfield| small_airport|           -26.2494|         28.398272|             ZA|        FASI|     Unknown|            FASI|38.050511740289046|  11|\n",
      "|   1753087022|00ae82| LNK277B|  South Africa|   1753087021|  1753087021|    28.67| -26.009|       5219.7|    false|     161|    249.42|        -8.45|   NULL|     5509.26|  2722|false|              0|    NULL|-27.509|-24.509|   27.17|   30.17|       Devon Airport|     41187|       Devon Airport| small_airport|-26.358999252319336| 28.78969955444336|             ZA|     Unknown|     Unknown|            FADV| 40.58079341011246|  12|\n",
      "|   1753087022|00ae82| LNK277B|  South Africa|   1753087021|  1753087021|    28.67| -26.009|       5219.7|    false|     161|    249.42|        -8.45|   NULL|     5509.26|  2722|false|              0|    NULL|-27.509|-24.509|   27.17|   30.17|  Dunnottar Airfield|     41189|  Dunnottar Airfield| small_airport|     -26.3543156175|      28.466791153|             ZA|     Unknown|     Unknown|         Unknown| 43.31617332868124|  13|\n",
      "|   1753087022|00ae82| LNK277B|  South Africa|   1753087021|  1753087021|    28.67| -26.009|       5219.7|    false|     161|    249.42|        -8.45|   NULL|     5509.26|  2722|false|              0|    NULL|-27.509|-24.509|   27.17|   30.17|     Brakpan Airport|      2770|     Brakpan Airport| small_airport|           -26.2386|           28.3018|             ZA|        FABB|     Unknown|            FABB| 44.75609188574679|  14|\n",
      "|   1753087022|00ae82| LNK277B|  South Africa|   1753087021|  1753087021|    28.67| -26.009|       5219.7|    false|     161|    249.42|        -8.45|   NULL|     5509.26|  2722|false|              0|    NULL|-27.509|-24.509|   27.17|   30.17|O.R. Tambo Intern...|     31055|O.R. Tambo Intern...| large_airport|           -26.1392|            28.246|             ZA|        FAOR|         JNB|            FAOR|44.808503418340024|  15|\n",
      "|   1753087022|00ae82| LNK277B|  South Africa|   1753087021|  1753087021|    28.67| -26.009|       5219.7|    false|     161|    249.42|        -8.45|   NULL|     5509.26|  2722|false|              0|    NULL|-27.509|-24.509|   27.17|   30.17|Waterkloof Air Fo...|      2856|Waterkloof Air Fo...|medium_airport|-25.829999923699997|28.222499847399998|             ZA|        FAWK|         WKF|            FAWK| 49.02317595227165|  16|\n",
      "|   1753087022|00ae82| LNK277B|  South Africa|   1753087021|  1753087021|    28.67| -26.009|       5219.7|    false|     161|    249.42|        -8.45|   NULL|     5509.26|  2722|false|              0|    NULL|-27.509|-24.509|   27.17|   30.17|Grand Central Air...|      2782|Grand Central Air...|medium_airport|-25.986299514799995|     28.1401004791|             ZA|        FAGC|         GCJ|            FAGC|53.112923389100644|  17|\n",
      "|   1753087022|00ae82| LNK277B|  South Africa|   1753087021|  1753087021|    28.67| -26.009|       5219.7|    false|     161|    249.42|        -8.45|   NULL|     5509.26|  2722|false|              0|    NULL|-27.509|-24.509|   27.17|   30.17|Blesbokfontain Ai...|     41203|Blesbokfontain Ai...| small_airport| -26.17569923400879|29.182199478149414|             ZA|     Unknown|     Unknown|         Unknown|  54.4667338489793|  18|\n",
      "|   1753087022|00ae82| LNK277B|  South Africa|   1753087021|  1753087021|    28.67| -26.009|       5219.7|    false|     161|    249.42|        -8.45|   NULL|     5509.26|  2722|false|              0|    NULL|-27.509|-24.509|   27.17|   30.17|        Sace Airport|     30365|        Sace Airport| small_airport|-25.956899642944336|29.211700439453125|             ZA|     Unknown|     Unknown|            FASU|   54.547845911349|  19|\n",
      "|   1753087022|00ae82| LNK277B|  South Africa|   1753087021|  1753087021|    28.67| -26.009|       5219.7|    false|     161|    249.42|        -8.45|   NULL|     5509.26|  2722|false|              0|    NULL|-27.509|-24.509|   27.17|   30.17|Swartkop Air Forc...|      2838|Swartkop Air Forc...|medium_airport|           -25.8097|           28.1646|             ZA|        FASK|     Unknown|            FASK| 55.24257840145705|  20|\n",
      "+-------------+------+--------+--------------+-------------+------------+---------+--------+-------------+---------+--------+----------+-------------+-------+------------+------+-----+---------------+--------+-------+-------+--------+--------+--------------------+----------+--------------------+--------------+-------------------+------------------+---------------+------------+------------+----------------+------------------+----+\n",
      "only showing top 20 rows\n",
      "\n"
     ]
    },
    {
     "name": "stderr",
     "output_type": "stream",
     "text": [
      "                                                                                \r"
     ]
    }
   ],
   "source": [
    "\n",
    "windowSpec = Window.partitionBy(\"snapshot_time\", \"icao24\").orderBy(\"distance_km\")\n",
    "\n",
    "flights_x_airs_closests = flights_x_airs.withColumn(\"rank\",\n",
    "                                                    row_number().over(windowSpec)\n",
    "                                                    )\n",
    "\n",
    "flights_x_airs_closests.show()"
   ]
  },
  {
   "cell_type": "code",
   "execution_count": 23,
   "id": "f0fc5319",
   "metadata": {},
   "outputs": [],
   "source": [
    "flights_x_airs_closests = flights_x_airs_closests.filter(col(\"rank\") == 1).drop(\"rank\")"
   ]
  },
  {
   "cell_type": "code",
   "execution_count": 24,
   "id": "1c683df1",
   "metadata": {},
   "outputs": [
    {
     "name": "stderr",
     "output_type": "stream",
     "text": [
      "[Stage 68:======================================>                   (2 + 1) / 3]\r"
     ]
    },
    {
     "name": "stdout",
     "output_type": "stream",
     "text": [
      "+---------+-------------+------+--------+--------------+-------------+---------+--------+--------+---------+--------+-------+------------------+-------------------+-----------+\n",
      "|flight_id|snapshot_time|icao24|callsign|origin_country|time_position|longitude|latitude|altitude|on_ground|velocity|heading|closest_airport_id|airport_distance_km|flight_date|\n",
      "+---------+-------------+------+--------+--------------+-------------+---------+--------+--------+---------+--------+-------+------------------+-------------------+-----------+\n",
      "|        0|   1753087022|00834c| LNK861C|  South Africa|   1753086844|  29.5509|-25.5143| 9128.76|    false|  239.61|   67.4|              2807| 21.918568648399088| 2025-07-21|\n",
      "|        1|   1753087022|00834d| LNK314X|  South Africa|   1753086938|  18.5998|-33.9718|    NULL|     true|     0.9|    315|              2775|  0.795863865822511| 2025-07-21|\n",
      "|        2|   1753087022|00869f|  KEM901|  South Africa|   1753087020|  19.1401|-33.8569| 4434.84|    false|  147.95| 295.76|             41302| 19.431440628674583| 2025-07-21|\n",
      "|        3|   1753087022|008ba5|  OPM007|  South Africa|   1753087021|  -4.1829| 41.3765|  8420.1|    false|  248.34| 184.87|            319456|  42.91238270866334| 2025-07-21|\n",
      "|        4|   1753087022|008de4|  SFR313|  South Africa|   1753086874|  26.7935| -26.706|  7505.7|    false|   209.6|  56.31|              2793| 19.773709341391655| 2025-07-21|\n",
      "|        5|   1753087022|008de8|  SFR129|  South Africa|   1753087022|  18.6602|-33.7068|  1600.2|    false|   96.34| 234.78|             41300|  1.296528018854641| 2025-07-21|\n",
      "|        6|   1753087022|008feb|  TVS8MS|  South Africa|   1753087020|  17.2941| 48.8801| 3223.26|    false|  156.56| 289.98|            316684| 0.8542237575521225| 2025-07-21|\n",
      "|        7|   1753087022|009131| LNK829D|  South Africa|   1753087021|  29.3833| -26.006| 8389.62|    false|  234.44|  80.14|             30036| 12.078806326521233| 2025-07-21|\n",
      "|        8|   1753087022|00935e|   ZSMYX|  South Africa|   1753086781|  28.1397|-25.9865|    NULL|     true|    7.72| 151.88|              2782|0.04584021932186892| 2025-07-21|\n",
      "|        9|   1753087022|0099ea|   ZSJUN|  South Africa|   1753086812|  26.9014| -26.695|  6705.6|    false|  233.32|  47.05|              2828|  18.16117270103732| 2025-07-21|\n",
      "|       10|   1753087022|00a51a|  SAA022|  South Africa|   1753087021|   28.876|-24.0489|11102.34|    false|     239|  15.35|            345668| 21.476731011270036| 2025-07-21|\n",
      "|       11|   1753087022|00ae82| LNK277B|  South Africa|   1753087021|    28.67| -26.009| 5509.26|    false|     161| 249.42|             41204| 14.857020096157465| 2025-07-21|\n",
      "|       12|   1753087022|00ae88| LNK383M|  South Africa|   1753087020|  19.2017|-33.3775| 5059.68|    false|   167.4| 198.82|             41304| 22.004549508650115| 2025-07-21|\n",
      "|       13|   1753087022|00af30|  SFR356|  South Africa|   1753086956|   27.808| -26.713| 8488.68|    false|  228.95| 186.71|             27297| 3.9726494849893688| 2025-07-21|\n",
      "|       14|   1753087022|00b017| LNK175N|  South Africa|   1753087021|  28.0919|-26.1014| 4511.04|    false|  190.34| 161.08|              2782| 13.633760341292026| 2025-07-21|\n",
      "|       15|   1753087022|00b032| LNK663X|  South Africa|   1753087019|  18.5983|-33.9614|    NULL|     true|       0|     45|              2775|0.49103866959632914| 2025-07-21|\n",
      "|       16|   1753087022|00b08d|  SFR302|  South Africa|   1753086870|  20.3161| -32.295|11460.48|    false|  241.98|  46.46|             31059|   41.7623832611264| 2025-07-21|\n",
      "|       17|   1753087022|00b097|  SFR463|  South Africa|   1753086853|  18.5984|-33.9704|    NULL|     true|       0| 255.94|              2775| 0.6918110014941585| 2025-07-21|\n",
      "|       18|   1753087022|00bfc0| LNK121Q|  South Africa|   1753087021|  27.8575|-25.9502| 6256.02|    false|  191.03| 121.68|              2800| 6.9925187345355075| 2025-07-21|\n",
      "|       19|   1753087022|00c45f|  SFR452|  South Africa|   1753086662|  28.7861|-26.3468|  7010.4|    false|  228.68| 159.73|             41187| 1.3985376794398274| 2025-07-21|\n",
      "+---------+-------------+------+--------+--------------+-------------+---------+--------+--------+---------+--------+-------+------------------+-------------------+-----------+\n",
      "only showing top 20 rows\n",
      "\n"
     ]
    },
    {
     "name": "stderr",
     "output_type": "stream",
     "text": [
      "                                                                                \r"
     ]
    }
   ],
   "source": [
    "flights_x_airs_closests.columns\n",
    "\n",
    "fact_flights_df = flights_x_airs_closests.select(\n",
    "    monotonically_increasing_id().alias(\"flight_id\"),\n",
    "    \"snapshot_time\",\n",
    "    \"icao24\",\n",
    "    \"callsign\",\n",
    "    \"origin_country\",\n",
    "    \"time_position\",\n",
    "    \"longitude\",\n",
    "    \"latitude\",\n",
    "    col(\"geo_altitude\").alias(\"altitude\"),\n",
    "    \"on_ground\",\n",
    "    \"velocity\",\n",
    "    col(\"true_track\").alias(\"heading\"),\n",
    "    col(\"airport_id\").alias(\"closest_airport_id\"),\n",
    "    col(\"distance_km\").alias(\"airport_distance_km\"),\n",
    "    to_date(from_unixtime(col(\"snapshot_time\"))).alias(\"flight_date\")\n",
    ")\n",
    "\n",
    "fact_flights_df.show()"
   ]
  },
  {
   "cell_type": "code",
   "execution_count": 25,
   "id": "70e3bbec",
   "metadata": {},
   "outputs": [
    {
     "name": "stderr",
     "output_type": "stream",
     "text": [
      "[Stage 75:======================================>                   (2 + 1) / 3]\r"
     ]
    },
    {
     "name": "stdout",
     "output_type": "stream",
     "text": [
      "+---------+-------------+------+--------+--------------+-------------+---------+--------+--------+---------+--------+-------+------------------+-------------------+-----------+------------+\n",
      "|flight_id|snapshot_time|icao24|callsign|origin_country|time_position|longitude|latitude|altitude|on_ground|velocity|heading|closest_airport_id|airport_distance_km|flight_date|airline_code|\n",
      "+---------+-------------+------+--------+--------------+-------------+---------+--------+--------+---------+--------+-------+------------------+-------------------+-----------+------------+\n",
      "|        0|   1753087022|00834c| LNK861C|  South Africa|   1753086844|  29.5509|-25.5143| 9128.76|    false|  239.61|   67.4|              2807| 21.918568648399088| 2025-07-21|         LNK|\n",
      "|        1|   1753087022|00834d| LNK314X|  South Africa|   1753086938|  18.5998|-33.9718|    NULL|     true|     0.9|    315|              2775|  0.795863865822511| 2025-07-21|         LNK|\n",
      "|        2|   1753087022|00869f|  KEM901|  South Africa|   1753087020|  19.1401|-33.8569| 4434.84|    false|  147.95| 295.76|             41302| 19.431440628674583| 2025-07-21|         KEM|\n",
      "|        3|   1753087022|008ba5|  OPM007|  South Africa|   1753087021|  -4.1829| 41.3765|  8420.1|    false|  248.34| 184.87|            319456|  42.91238270866334| 2025-07-21|         OPM|\n",
      "|        4|   1753087022|008de4|  SFR313|  South Africa|   1753086874|  26.7935| -26.706|  7505.7|    false|   209.6|  56.31|              2793| 19.773709341391655| 2025-07-21|         SFR|\n",
      "+---------+-------------+------+--------+--------------+-------------+---------+--------+--------+---------+--------+-------+------------------+-------------------+-----------+------------+\n",
      "only showing top 5 rows\n",
      "\n"
     ]
    },
    {
     "name": "stderr",
     "output_type": "stream",
     "text": [
      "                                                                                \r"
     ]
    }
   ],
   "source": [
    "fact_flights_df = fact_flights_df.withColumn(\"airline_code\", substring(col(\"callsign\"), 1, 3))\n",
    "\n",
    "fact_flights_df.show(5)"
   ]
  },
  {
   "cell_type": "code",
   "execution_count": 26,
   "id": "db61c778",
   "metadata": {},
   "outputs": [
    {
     "name": "stderr",
     "output_type": "stream",
     "text": [
      "[Stage 79:>                                                         (0 + 3) / 3]\r"
     ]
    },
    {
     "name": "stdout",
     "output_type": "stream",
     "text": [
      "+------+--------------------+--------------+------------------+-------------------+-------+----+----+--------+\n",
      "|    id|                name|          type|          latitude|          longitude|country|icao|iata|gps_code|\n",
      "+------+--------------------+--------------+------------------+-------------------+-------+----+----+--------+\n",
      "| 31542|Gasmata Island Ai...| small_airport|    -6.27111005783|      150.330993652|     PG|AYGT| GMI|    AYGT|\n",
      "|307247|     Woitape Airport| small_airport|         -8.545833|           147.2525|     PG|AYWT| WTP|    AYWT|\n",
      "|  1826|Hudson's Hope Air...| small_airport|         56.035142|        -121.978326|     CA|CYNH| YNH|    CYNH|\n",
      "|  1838|Rainbow Lake Airport|medium_airport|         58.491402|        -119.407997|     CA|CYOP| YOP|    CYOP|\n",
      "|  1928|Montreal / Pierre...| large_airport|         45.467837|         -73.742294|     CA|CYUL| YUL|    CYUL|\n",
      "|  2557|     Thisted Airport|medium_airport|         57.068802|            8.70522|     DK|EKTS| TED|    EKTS|\n",
      "|  2873|Bangui M'Poko Int...|medium_airport|  4.39847993850708| 18.518800735473633|     CF|FEFF| BGF|    FEFF|\n",
      "| 32630|Ambatondrazaka Ai...| small_airport|        -17.795378|          48.442583|     MG|FMMZ| WAM|    FMMZ|\n",
      "|311386|      Gasuke Airport| small_airport|           -6.1028|           141.7393|     PG|AYGS| GBC|    AYGS|\n",
      "|312938|       Imane Airport| small_airport|           -6.7524|           146.1072|     PG|AYII| IMN|    AYII|\n",
      "| 42762|        Lumi Airport| small_airport|    -3.47683951134|      142.041292191|     PG|AYLU| LMI|    AYLU|\n",
      "| 32246|Sauðárkrókur Airport| small_airport| 65.73169708249999|-19.572799682599996|     IS|BIKR| SAK|    BIKR|\n",
      "|  1712|        Nain Airport| small_airport|         56.550778|         -61.682224|     CA|CYDP| YDP|    CYDP|\n",
      "|  1727|  Amos/Magny Airport|medium_airport|         48.563903|         -78.249702|     CA|CYEY| YEY|    CYEY|\n",
      "|  1293|Barrie-Lake Simco...|medium_airport|         44.485056|         -79.554663|     CA|CYLS| YLK|    CYLS|\n",
      "|  1867|     Windsor Airport|medium_airport| 42.27560043334961| -82.95559692382812|     CA|CYQG| YQG|    CYQG|\n",
      "|  1939|    Kuujjuaq Airport|medium_airport|58.096099853515625|  -68.4269027709961|     CA|CYVP| YVP|    CYVP|\n",
      "|  1964|Beaver Creek Airport|medium_airport|62.410301208496094|-140.86700439453125|     CA|CYXQ| YXQ|    CYXQ|\n",
      "| 32280|     Séguéla Airport| small_airport|              7.96|          -6.644167|     CI|DISG| SEO|    DISG|\n",
      "|  2101|   San Pedro Airport|medium_airport|           4.74672|           -6.66082|     CI|DISP| SPY|    DISP|\n",
      "+------+--------------------+--------------+------------------+-------------------+-------+----+----+--------+\n",
      "only showing top 20 rows\n",
      "\n"
     ]
    },
    {
     "name": "stderr",
     "output_type": "stream",
     "text": [
      "                                                                                \r"
     ]
    }
   ],
   "source": [
    "dim_airports.show()"
   ]
  },
  {
   "cell_type": "code",
   "execution_count": 27,
   "id": "5ac2ebbb",
   "metadata": {},
   "outputs": [
    {
     "name": "stderr",
     "output_type": "stream",
     "text": [
      "[Stage 85:>                                                         (0 + 1) / 1]\r"
     ]
    },
    {
     "name": "stdout",
     "output_type": "stream",
     "text": [
      "+-------------+------+--------+--------------+-------------+------------+---------+--------+-------------+---------+--------+----------+-------------+-------+------------+------+-----+---------------+--------+--------+-------------------+--------+--------+--------------------+----------+--------------------+--------------+-------------------+------------------+---------------+------------+------------+----------------+-------------------+\n",
      "|snapshot_time|icao24|callsign|origin_country|time_position|last_contact|longitude|latitude|baro_altitude|on_ground|velocity|true_track|vertical_rate|sensors|geo_altitude|squawk|  spi|position_source|category| lat_min|            lat_max|long_min|long_max|        airport_name|airport_id|        airport_name|  airport_type|        airport_lat|      airport_long|airport_country|airport_icao|airport_iata|airport_gps_code|        distance_km|\n",
      "+-------------+------+--------+--------------+-------------+------------+---------+--------+-------------+---------+--------+----------+-------------+-------+------------+------+-----+---------------+--------+--------+-------------------+--------+--------+--------------------+----------+--------------------+--------------+-------------------+------------------+---------------+------------+------------+----------------+-------------------+\n",
      "|   1753087022|00834c| LNK861C|  South Africa|   1753086844|  1753086844|  29.5509|-25.5143|       8724.9|    false|  239.61|      67.4|         6.83|   NULL|     9128.76|  0410|false|              0|    NULL|-27.0143|           -24.0143| 28.0509| 31.0509|  Middelburg Airport|      2807|  Middelburg Airport| small_airport|         -25.684799|         29.440201|             ZA|        FAMB|     Unknown|            FAMB| 21.918568648399088|\n",
      "|   1753087022|00834d| LNK314X|  South Africa|   1753086938|  1753086943|  18.5998|-33.9718|         NULL|     true|     0.9|       315|         NULL|   NULL|        NULL|  NULL|false|              0|    NULL|-35.4718|           -32.4718| 17.0998| 20.0998|Cape Town Interna...|      2775|Cape Town Interna...| large_airport|     -33.9648017883|     18.6016998291|             ZA|        FACT|         CPT|            FACT|  0.795863865822511|\n",
      "|   1753087022|00869f|  KEM901|  South Africa|   1753087020|  1753087020|  19.1401|-33.8569|      4297.68|    false|  147.95|    295.76|       -12.35|   NULL|     4434.84|  NULL|false|              0|    NULL|-35.3569|           -32.3569| 17.6401| 20.6401|  Paarl East Airport|     41302|  Paarl East Airport| small_airport|-33.710766666699996|19.024388888900003|             ZA|     Unknown|     Unknown|            FAPU| 19.431440628674583|\n",
      "|   1753087022|008ba5|  OPM007|  South Africa|   1753087021|  1753087021|  -4.1829| 41.3765|      7985.76|    false|  248.34|    184.87|       -13.98|   NULL|      8420.1|  5207|false|              0|    NULL| 39.8765|            42.8765| -5.6829| -2.6829|Aeródromo de Alca...|    319456|Aeródromo de Alca...| small_airport|         41.3727778|        -4.6958333|             ES|     Unknown|     Unknown|         Unknown|  42.91238270866334|\n",
      "|   1753087022|008de4|  SFR313|  South Africa|   1753086874|  1753086936|  26.7935| -26.706|      7170.42|    false|   209.6|     56.31|        -4.23|   NULL|      7505.7|  5426|false|              0|    NULL| -28.206|            -25.206| 25.2935| 28.2935|  P C Pelser Airport|      2793|  P C Pelser Airport|medium_airport|         -26.871099|            26.718|             ZA|        FAKD|         KXE|            FAKD| 19.773709341391655|\n",
      "|   1753087022|008de8|  SFR129|  South Africa|   1753087022|  1753087022|  18.6602|-33.7068|      1478.28|    false|   96.34|    234.78|         -5.2|   NULL|      1600.2|  NULL|false|              0|    NULL|-35.2068|           -32.2068| 17.1602| 20.1602|      Altona Airport|     41300|      Altona Airport| small_airport|-33.707637786865234|18.646249771118164|             ZA|     Unknown|     Unknown|         Unknown|  1.296528018854641|\n",
      "|   1753087022|008feb|  TVS8MS|  South Africa|   1753087020|  1753087021|  17.2941| 48.8801|      3078.48|    false|  156.56|    289.98|        -4.88|   NULL|     3223.26|  6027|false|              0|    NULL| 47.3801|            50.3801| 15.7941| 18.7941|  Strážnice Airfield|    316684|  Strážnice Airfield| small_airport|          48.887778|         17.294444|             CZ|     Unknown|     Unknown|         Unknown| 0.8542237575521225|\n",
      "|   1753087022|009131| LNK829D|  South Africa|   1753087021|  1753087021|  29.3833| -26.006|      7993.38|    false|  234.44|     80.14|         8.13|   NULL|     8389.62|  0466|false|              0|    NULL| -27.506|            -24.506| 27.8833| 30.8833|Komati Power Stat...|     30036|Komati Power Stat...| small_airport|-26.093299865722656| 29.45560073852539|             ZA|     Unknown|     Unknown|            FAKG| 12.078806326521233|\n",
      "|   1753087022|00935e|   ZSMYX|  South Africa|   1753086781|  1753086781|  28.1397|-25.9865|         NULL|     true|    7.72|    151.88|         NULL|   NULL|        NULL|  2000|false|              0|    NULL|-27.4865|           -24.4865| 26.6397| 29.6397|Grand Central Air...|      2782|Grand Central Air...|medium_airport|-25.986299514799995|     28.1401004791|             ZA|        FAGC|         GCJ|            FAGC|0.04584021932186892|\n",
      "|   1753087022|0099ea|   ZSJUN|  South Africa|   1753086812|  1753087020|  26.9014| -26.695|      5173.98|    false|  233.32|     47.05|        -8.13|   NULL|      6705.6|  5407|false|              0|    NULL| -28.195|            -25.195| 25.4014| 28.4014|Potchefstroom Air...|      2828|Potchefstroom Air...|medium_airport|      -26.670999527|     27.0818996429|             ZA|        FAPS|         PCF|            FAPS|  18.16117270103732|\n",
      "|   1753087022|00a51a|  SAA022|  South Africa|   1753087021|  1753087021|   28.876|-24.0489|      10591.8|    false|     239|     15.35|         7.15|   NULL|    11102.34|  7353|false|              0|    NULL|-25.5489|           -22.5489|  27.376|  30.376|   Entabeni Airstrip|    345668|   Entabeni Airstrip| small_airport|           -24.1933|            28.735|             ZA|     Unknown|     Unknown|            FAEN| 21.476731011270036|\n",
      "|   1753087022|00ae82| LNK277B|  South Africa|   1753087021|  1753087021|    28.67| -26.009|       5219.7|    false|     161|    249.42|        -8.45|   NULL|     5509.26|  2722|false|              0|    NULL| -27.509|            -24.509|   27.17|   30.17|      Delmas Airport|     41204|      Delmas Airport| small_airport|-26.141666412353516|28.691667556762695|             ZA|     Unknown|     Unknown|            FADE| 14.857020096157465|\n",
      "|   1753087022|00ae88| LNK383M|  South Africa|   1753087020|  1753087021|  19.2017|-33.3775|      4907.28|    false|   167.4|    198.82|        -2.93|   NULL|     5059.68|  NULL|false|              0|    NULL|-34.8775|-31.877499999999998| 17.7017| 20.7017|       Ceres Airport|     41304|       Ceres Airport| small_airport|         -33.316594|         19.426676|             ZA|     Unknown|     Unknown|            FACE| 22.004549508650115|\n",
      "|   1753087022|00af30|  SFR356|  South Africa|   1753086956|  1753086958|   27.808| -26.713|      8183.88|    false|  228.95|    186.71|         7.48|   NULL|     8488.68|  2724|false|              0|    NULL| -28.213|            -25.213|  26.308|  29.308|Vanderbijlpark Ai...|     27297|Vanderbijlpark Ai...| small_airport| -26.69029998779297|   27.777099609375|             ZA|     Unknown|     Unknown|            FAVP| 3.9726494849893688|\n",
      "|   1753087022|00b017| LNK175N|  South Africa|   1753087021|  1753087021|  28.0919|-26.1014|       4267.2|    false|  190.34|    161.08|        -0.33|   NULL|     4511.04|  6322|false|              0|    NULL|-27.6014|           -24.6014| 26.5919| 29.5919|Grand Central Air...|      2782|Grand Central Air...|medium_airport|-25.986299514799995|     28.1401004791|             ZA|        FAGC|         GCJ|            FAGC| 13.633760341292026|\n",
      "|   1753087022|00b032| LNK663X|  South Africa|   1753087019|  1753087019|  18.5983|-33.9614|         NULL|     true|       0|        45|         NULL|   NULL|        NULL|  NULL|false|              0|    NULL|-35.4614|           -32.4614| 17.0983| 20.0983|Cape Town Interna...|      2775|Cape Town Interna...| large_airport|     -33.9648017883|     18.6016998291|             ZA|        FACT|         CPT|            FACT|0.49103866959632914|\n",
      "|   1753087022|00b08d|  SFR302|  South Africa|   1753086870|  1753086881|  20.3161| -32.295|      11277.6|    false|  241.98|     46.46|        -0.33|   NULL|    11460.48|  NULL|false|              0|    NULL| -33.795|            -30.795| 18.8161| 21.8161|  Sutherland Airport|     31059|  Sutherland Airport| small_airport| -32.48820114135742|20.697099685668945|             ZA|     Unknown|     Unknown|            FASL|   41.7623832611264|\n",
      "|   1753087022|00b097|  SFR463|  South Africa|   1753086853|  1753086858|  18.5984|-33.9704|         NULL|     true|       0|    255.94|         NULL|   NULL|        NULL|  NULL|false|              0|    NULL|-35.4704|           -32.4704| 17.0984| 20.0984|Cape Town Interna...|      2775|Cape Town Interna...| large_airport|     -33.9648017883|     18.6016998291|             ZA|        FACT|         CPT|            FACT| 0.6918110014941585|\n",
      "|   1753087022|00bfc0| LNK121Q|  South Africa|   1753087021|  1753087021|  27.8575|-25.9502|       5943.6|    false|  191.03|    121.68|        -9.43|   NULL|     6256.02|  0604|false|              0|    NULL|-27.4502|           -24.4502| 26.3575| 29.3575|Lanseria Internat...|      2800|Lanseria Internat...|medium_airport|         -25.938499|           27.9261|             ZA|        FALA|         HLA|            FALA| 6.9925187345355075|\n",
      "|   1753087022|00c45f|  SFR452|  South Africa|   1753086662|  1753086735|  28.7861|-26.3468|      6652.26|    false|  228.68|    159.73|         8.45|   NULL|      7010.4|  3572|false|              0|    NULL|-27.8468|           -24.8468| 27.2861| 30.2861|       Devon Airport|     41187|       Devon Airport| small_airport|-26.358999252319336| 28.78969955444336|             ZA|     Unknown|     Unknown|            FADV| 1.3985376794398274|\n",
      "+-------------+------+--------+--------------+-------------+------------+---------+--------+-------------+---------+--------+----------+-------------+-------+------------+------+-----+---------------+--------+--------+-------------------+--------+--------+--------------------+----------+--------------------+--------------+-------------------+------------------+---------------+------------+------------+----------------+-------------------+\n",
      "only showing top 20 rows\n",
      "\n"
     ]
    },
    {
     "name": "stderr",
     "output_type": "stream",
     "text": [
      "                                                                                \r"
     ]
    }
   ],
   "source": [
    "fact_flights_x_airs = flights_x_airs_closests\n",
    "\n",
    "fact_flights_x_airs.show()"
   ]
  },
  {
   "cell_type": "code",
   "execution_count": 28,
   "id": "9f912f5b",
   "metadata": {},
   "outputs": [
    {
     "name": "stdout",
     "output_type": "stream",
     "text": [
      "+----------+--------------------+------------+----------------+--------------+------+\n",
      "|airline_id|        airline_name|airline_icao|airline_callsign|       country|active|\n",
      "+----------+--------------------+------------+----------------+--------------+------+\n",
      "|         1|         135 Airways|         GNL|         GENERAL| United States|     N|\n",
      "|         2|       1Time Airline|         RNX|         NEXTIME|  South Africa|     Y|\n",
      "|         3|2 Sqn No 1 Elemen...|         WYT|            NULL|United Kingdom|     N|\n",
      "|         4|     213 Flight Unit|         TFU|            NULL|        Russia|     N|\n",
      "|         5|223 Flight Unit S...|         CHD|  CHKALOVSK-AVIA|        Russia|     N|\n",
      "|         6|   224th Flight Unit|         TTF|      CARGO UNIT|        Russia|     N|\n",
      "|         7|         247 Jet Ltd|         TWF|    CLOUD RUNNER|United Kingdom|     N|\n",
      "|         8|         3D Aviation|         SEC|         SECUREX| United States|     N|\n",
      "|         9|         40-Mile Air|         MLA|        MILE-AIR| United States|     Y|\n",
      "|        10|              4D Air|         QRT|         QUARTET|      Thailand|     N|\n",
      "|        11|611897 Alberta Li...|         THD|           DONUT|        Canada|     N|\n",
      "|        12|    Ansett Australia|         AAA|          ANSETT|     Australia|     Y|\n",
      "|        13|     Abelag Aviation|         AAB|             ABG|       Belgium|     N|\n",
      "|        14|      Army Air Corps|         AAC|         ARMYAIR|United Kingdom|     N|\n",
      "|        15|Aero Aviation Cen...|         AAD|         SUNRISE|        Canada|     N|\n",
      "|        16|Aero Servicios Ej...|         SII|          ASEISA|        Mexico|     N|\n",
      "|        17|         Aero Biniza|         BZS|          BINIZA|        Mexico|     N|\n",
      "|        18|       Aero Albatros|         ABM| ALBATROS ESPANA|         Spain|     N|\n",
      "|        19|          Aigle Azur|         AAF|      AIGLE AZUR|        France|     Y|\n",
      "|        20|      Aloha Airlines|         AAH|           ALOHA| United States|     Y|\n",
      "+----------+--------------------+------------+----------------+--------------+------+\n",
      "only showing top 20 rows\n",
      "\n"
     ]
    }
   ],
   "source": [
    "# Creating the Airline Dimension\n",
    "dim_airline = spark.read.csv(\"data/silver/airlines.dat\", header=False, inferSchema=True)\n",
    "\n",
    "dim_airline = dim_airline.selectExpr(\n",
    "    \"_c0 as airline_id\",\n",
    "    \"_c1 as airline_name\",\n",
    "    \"_c2 as airline_alias\",\n",
    "    \"_c4 as airline_icao\",\n",
    "    \"_c5 as airline_callsign\",\n",
    "    \"_c6 as country\",\n",
    "    \"_c7 as active\"\n",
    ").filter((col(\"_c4\") != \"\\\\N\") & (col(\"_c4\").isNotNull()) & (col(\"_c4\") != \"N/A\")) \\\n",
    ".drop(\"airline_id\")\n",
    "\n",
    "# Add montonically_increading_id for airline_id\n",
    "\n",
    "dim_airline = dim_airline.withColumn(\"airline_id\", monotonically_increasing_id() + 1)\\\n",
    ".select(\"airline_id\", \"airline_name\", \"airline_icao\", \"airline_callsign\", \"country\", \"active\")\n",
    "\n",
    "dim_airline.show()"
   ]
  },
  {
   "cell_type": "code",
   "execution_count": 29,
   "id": "d89bdd4b",
   "metadata": {},
   "outputs": [
    {
     "name": "stderr",
     "output_type": "stream",
     "text": [
      "[Stage 94:======================================>                   (2 + 1) / 3]\r"
     ]
    },
    {
     "name": "stdout",
     "output_type": "stream",
     "text": [
      "+------+\n",
      "|icao24|\n",
      "+------+\n",
      "|06a109|\n",
      "|06a2f6|\n",
      "|3455d9|\n",
      "|348382|\n",
      "|393f0c|\n",
      "+------+\n",
      "only showing top 5 rows\n",
      "\n"
     ]
    },
    {
     "name": "stderr",
     "output_type": "stream",
     "text": [
      "                                                                                \r"
     ]
    }
   ],
   "source": [
    "# Creating the Aircraft Dimension\n",
    "\n",
    "dim_aircraft_base = fact_flights_df.select(\"icao24\").dropna().dropDuplicates()\n",
    "\n",
    "dim_aircraft_base.show(5)\n"
   ]
  },
  {
   "cell_type": "code",
   "execution_count": 30,
   "id": "4ff3a945",
   "metadata": {},
   "outputs": [
    {
     "name": "stderr",
     "output_type": "stream",
     "text": [
      "                                                                                \r"
     ]
    },
    {
     "data": {
      "text/plain": [
       "6202"
      ]
     },
     "execution_count": 30,
     "metadata": {},
     "output_type": "execute_result"
    }
   ],
   "source": [
    "dim_aircraft_base.count()"
   ]
  },
  {
   "cell_type": "code",
   "execution_count": 31,
   "id": "44e20d61",
   "metadata": {},
   "outputs": [
    {
     "name": "stderr",
     "output_type": "stream",
     "text": [
      "                                                                                \r"
     ]
    },
    {
     "name": "stdout",
     "output_type": "stream",
     "text": [
      "+--------+---------+----------------+----------------+--------+-----------------+--------------------+-------+-------+-----+------------+------------+------+\n",
      "|  icao24|    model|manufacturerName|manufacturerIcao|typecode|icaoAircraftClass| categoryDescription|country|engines|built|serialNumber|registration|status|\n",
      "+--------+---------+----------------+----------------+--------+-----------------+--------------------+-------+-------+-----+------------+------------+------+\n",
      "|'000000'|   unknow|              ''|              ''|      ''|               ''|                  ''|   NULL|     ''| NULL|          ''|          ''|    ''|\n",
      "|'000001'|Antonov 2|              ''|    SHIJIAZHUANG|     AN2|              L1P|                  ''|   NULL|     ''| NULL|          ''|      SP-FGR|    ''|\n",
      "|'000002'|       ''|              ''|              ''|      ''|               ''| Light (< 15500 lbs)|   NULL|     ''| NULL|          ''|          ''|    ''|\n",
      "|'000003'|       ''|              ''|              ''|      ''|               ''|No ADS-B Emitter ...|   NULL|     ''| NULL|          ''|          ''|    ''|\n",
      "|'000004'|       ''|              ''|              ''|      ''|               ''|No ADS-B Emitter ...|   NULL|     ''| NULL|          ''|          ''|    ''|\n",
      "+--------+---------+----------------+----------------+--------+-----------------+--------------------+-------+-------+-----+------------+------------+------+\n",
      "only showing top 5 rows\n",
      "\n"
     ]
    }
   ],
   "source": [
    "dim_aircraft = spark.read.csv(\"data/silver/aircrafts.csv\", header= True, inferSchema=True)\n",
    "\n",
    "# Clean column names\n",
    "\n",
    "for old_column in dim_aircraft.columns:\n",
    "    new_column = old_column.strip().strip(\"'\")\n",
    "    if old_column != new_column:\n",
    "        dim_aircraft = dim_aircraft.withColumnRenamed(old_column, new_column)\n",
    "\n",
    "dim_aircraft = dim_aircraft.select([\n",
    "    \"icao24\",\n",
    "    \"model\",\n",
    "    \"manufacturerName\",\n",
    "    \"manufacturerIcao\",\n",
    "    \"typecode\",\n",
    "    \"icaoAircraftClass\",\n",
    "    \"categoryDescription\",\n",
    "    \"country\",\n",
    "    \"engines\",\n",
    "    \"built\",\n",
    "    \"serialNumber\",\n",
    "    \"registration\",\n",
    "    \"status\"\n",
    "])\n",
    "\n",
    "dim_aircraft.show(5)"
   ]
  },
  {
   "cell_type": "code",
   "execution_count": 32,
   "id": "9d6a0248",
   "metadata": {},
   "outputs": [
    {
     "name": "stderr",
     "output_type": "stream",
     "text": [
      "[Stage 125:======================================>                  (2 + 1) / 3]\r"
     ]
    },
    {
     "name": "stdout",
     "output_type": "stream",
     "text": [
      "+-----------+-----+----------------+----------------+--------+-----------------+-------------------+-------+-------+-----+------------+------------+------+\n",
      "|aircraft_id|model|manufacturerName|manufacturerIcao|typecode|icaoAircraftClass|categoryDescription|country|engines|built|serialNumber|registration|status|\n",
      "+-----------+-----+----------------+----------------+--------+-----------------+-------------------+-------+-------+-----+------------+------------+------+\n",
      "|     06a109| NULL|            NULL|            NULL|    NULL|             NULL|               NULL|   NULL|   NULL| NULL|        NULL|        NULL|  NULL|\n",
      "|     06a2f6| NULL|            NULL|            NULL|    NULL|             NULL|               NULL|   NULL|   NULL| NULL|        NULL|        NULL|  NULL|\n",
      "|     3455d9| NULL|            NULL|            NULL|    NULL|             NULL|               NULL|   NULL|   NULL| NULL|        NULL|        NULL|  NULL|\n",
      "|     348382| NULL|            NULL|            NULL|    NULL|             NULL|               NULL|   NULL|   NULL| NULL|        NULL|        NULL|  NULL|\n",
      "|     393f0c| NULL|            NULL|            NULL|    NULL|             NULL|               NULL|   NULL|   NULL| NULL|        NULL|        NULL|  NULL|\n",
      "+-----------+-----+----------------+----------------+--------+-----------------+-------------------+-------+-------+-----+------------+------------+------+\n",
      "only showing top 5 rows\n",
      "\n"
     ]
    },
    {
     "name": "stderr",
     "output_type": "stream",
     "text": [
      "                                                                                \r"
     ]
    }
   ],
   "source": [
    "# Final dim_aircraft, filtered to only those present in the fact table\n",
    "\n",
    "dim_aircraft = dim_aircraft_base.join( dim_aircraft, [\"icao24\"], how=\"left\")\n",
    "\n",
    "dim_aircraft = dim_aircraft.withColumnRenamed(\"icao24\", \"aircraft_id\")\n",
    "\n",
    "dim_aircraft.show(5)"
   ]
  },
  {
   "cell_type": "code",
   "execution_count": 33,
   "id": "235bbe51",
   "metadata": {},
   "outputs": [
    {
     "name": "stderr",
     "output_type": "stream",
     "text": [
      "[Stage 140:===========>     (2 + 1) / 3][Stage 141:===========>     (2 + 1) / 3]\r"
     ]
    },
    {
     "name": "stdout",
     "output_type": "stream",
     "text": [
      "+---------+-------------+------+--------+--------------+-------------+---------+--------+--------+---------+--------+-------+------------------+-------------------+-----------+------------+----------+-----------+\n",
      "|flight_id|snapshot_time|icao24|callsign|origin_country|time_position|longitude|latitude|altitude|on_ground|velocity|heading|closest_airport_id|airport_distance_km|flight_date|airline_code|airline_id|aircraft_id|\n",
      "+---------+-------------+------+--------+--------------+-------------+---------+--------+--------+---------+--------+-------+------------------+-------------------+-----------+------------+----------+-----------+\n",
      "|        0|   1753087022|00834c| LNK861C|  South Africa|   1753086844|  29.5509|-25.5143| 9128.76|    false|  239.61|   67.4|              2807| 21.918568648399088| 2025-07-21|         LNK|      1025|     00834c|\n",
      "|        1|   1753087022|00834d| LNK314X|  South Africa|   1753086938|  18.5998|-33.9718|    NULL|     true|     0.9|    315|              2775|  0.795863865822511| 2025-07-21|         LNK|      1025|     00834d|\n",
      "|        4|   1753087022|008de4|  SFR313|  South Africa|   1753086874|  26.7935| -26.706|  7505.7|    false|   209.6|  56.31|              2793| 19.773709341391655| 2025-07-21|         SFR|      4322|     008de4|\n",
      "|        5|   1753087022|008de8|  SFR129|  South Africa|   1753087022|  18.6602|-33.7068|  1600.2|    false|   96.34| 234.78|             41300|  1.296528018854641| 2025-07-21|         SFR|      4322|     008de8|\n",
      "|        6|   1753087022|008feb|  TVS8MS|  South Africa|   1753087020|  17.2941| 48.8801| 3223.26|    false|  156.56| 289.98|            316684| 0.8542237575521225| 2025-07-21|         TVS|      5011|     008feb|\n",
      "+---------+-------------+------+--------+--------------+-------------+---------+--------+--------+---------+--------+-------+------------------+-------------------+-----------+------------+----------+-----------+\n",
      "only showing top 5 rows\n",
      "\n"
     ]
    },
    {
     "name": "stderr",
     "output_type": "stream",
     "text": [
      "                                                                                \r"
     ]
    }
   ],
   "source": [
    "fact_flights_df = fact_flights_df.join(dim_airline, fact_flights_df.airline_code == dim_airline.airline_icao, how=\"left\") \\\n",
    "                                .join(dim_aircraft, fact_flights_df.icao24 ==  dim_aircraft.aircraft_id, how=\"left\")\\\n",
    "                                .select([\"flight_id\", \"snapshot_time\", \"icao24\", \"callsign\", \"origin_country\", \"time_position\",\n",
    "                                         \"longitude\", \"latitude\", \"altitude\", \"on_ground\", \"velocity\", \"heading\", \"closest_airport_id\", \n",
    "                                         \"airport_distance_km\", \"flight_date\", \"airline_code\", \"airline_id\", \"aircraft_id\"]) \\\n",
    "                                .filter(col(\"airline_id\").isNotNull())\n",
    "\n",
    "\n",
    "fact_flights_df.show(5)"
   ]
  },
  {
   "cell_type": "code",
   "execution_count": 34,
   "id": "6e354be2",
   "metadata": {},
   "outputs": [
    {
     "name": "stderr",
     "output_type": "stream",
     "text": [
      "[Stage 159:===========>     (2 + 1) / 3][Stage 160:===========>     (2 + 1) / 3]\r"
     ]
    },
    {
     "name": "stdout",
     "output_type": "stream",
     "text": [
      "+---------+-------------+------+--------+--------------+-------------+---------+--------+--------+---------+--------+-------+------------------+-------------------+-----------+------------+----------+-----------+\n",
      "|flight_id|snapshot_time|icao24|callsign|origin_country|time_position|longitude|latitude|altitude|on_ground|velocity|heading|closest_airport_id|airport_distance_km|flight_date|airline_code|airline_id|aircraft_id|\n",
      "+---------+-------------+------+--------+--------------+-------------+---------+--------+--------+---------+--------+-------+------------------+-------------------+-----------+------------+----------+-----------+\n",
      "|        0|   1753087022|00834c| LNK861C|  South Africa|   1753086844|  29.5509|-25.5143| 9128.76|    false|  239.61|   67.4|              2807| 21.918568648399088| 2025-07-21|         LNK|      1025|     00834c|\n",
      "|        1|   1753087022|00834d| LNK314X|  South Africa|   1753086938|  18.5998|-33.9718|    NULL|     true|     0.9|    315|              2775|  0.795863865822511| 2025-07-21|         LNK|      1025|     00834d|\n",
      "|        4|   1753087022|008de4|  SFR313|  South Africa|   1753086874|  26.7935| -26.706|  7505.7|    false|   209.6|  56.31|              2793| 19.773709341391655| 2025-07-21|         SFR|      4322|     008de4|\n",
      "|        5|   1753087022|008de8|  SFR129|  South Africa|   1753087022|  18.6602|-33.7068|  1600.2|    false|   96.34| 234.78|             41300|  1.296528018854641| 2025-07-21|         SFR|      4322|     008de8|\n",
      "|        6|   1753087022|008feb|  TVS8MS|  South Africa|   1753087020|  17.2941| 48.8801| 3223.26|    false|  156.56| 289.98|            316684| 0.8542237575521225| 2025-07-21|         TVS|      5011|     008feb|\n",
      "+---------+-------------+------+--------+--------------+-------------+---------+--------+--------+---------+--------+-------+------------------+-------------------+-----------+------------+----------+-----------+\n",
      "only showing top 5 rows\n",
      "\n"
     ]
    },
    {
     "name": "stderr",
     "output_type": "stream",
     "text": [
      "                                                                                \r"
     ]
    }
   ],
   "source": [
    "fact_flights_df.show(5)"
   ]
  },
  {
   "cell_type": "code",
   "execution_count": 35,
   "id": "008fb1f8",
   "metadata": {},
   "outputs": [
    {
     "name": "stderr",
     "output_type": "stream",
     "text": [
      "                                                                                \r"
     ]
    }
   ],
   "source": [
    "#  Save dataframes to CSV\n",
    "\n",
    "fact_flights_df.write.mode(\"append\").parquet(\"data/gold/fact\")\n",
    "dim_aircraft.write.mode(\"overwrite\").parquet(\"data/gold/aircrafts\")\n",
    "dim_airline.write.mode(\"overwrite\").parquet(\"data/gold/airlines\")\n",
    "dim_airports.write.mode(\"overwrite\").parquet(\"data/gold/airports\")"
   ]
  },
  {
   "cell_type": "markdown",
   "id": "36c33580",
   "metadata": {},
   "source": [
    "## Loading"
   ]
  },
  {
   "cell_type": "code",
   "execution_count": 36,
   "id": "771e3df6",
   "metadata": {},
   "outputs": [],
   "source": [
    "DB_USER = os.getenv(\"DB_USER\")\n",
    "DB_PASS = os.getenv(\"DB_PASS\")\n",
    "DB_HOST = os.getenv(\"DB_HOST\")\n",
    "DB_PORT = os.getenv(\"DB_PORT\")\n",
    "DB_NAME = os.getenv(\"DB_NAME\").lower()"
   ]
  },
  {
   "cell_type": "code",
   "execution_count": 37,
   "id": "da680823",
   "metadata": {},
   "outputs": [
    {
     "name": "stdout",
     "output_type": "stream",
     "text": [
      "Database skytrack already exists.\n"
     ]
    }
   ],
   "source": [
    "# Creating the Database\n",
    "\n",
    "try:\n",
    "    conn = psycopg2.connect(f\"postgresql://{DB_USER}:{DB_PASS}@{DB_HOST}:{DB_PORT}/postgres\")\n",
    "    conn.autocommit = True\n",
    "\n",
    "    cur = conn.cursor()\n",
    "\n",
    "    cur.execute(f\"SELECT 1 FROM pg_catalog.pg_database WHERE datname = '{DB_NAME}'\")\n",
    "\n",
    "    exists = cur.fetchone()\n",
    "\n",
    "    if exists:\n",
    "        print(f\"Database {DB_NAME} already exists.\")\n",
    "    else:\n",
    "        cur.execute(f\"CREATE DATABASE {DB_NAME}\")\n",
    "        print(f\"Database {DB_NAME} created successfully.\")\n",
    "\n",
    "except Exception as e:\n",
    "    print(f\"Something went very wrong: {e}\")"
   ]
  },
  {
   "cell_type": "code",
   "execution_count": 39,
   "id": "874c7491",
   "metadata": {},
   "outputs": [],
   "source": [
    "# Creating Schema\n",
    "\n",
    "url = f\"postgresql://{DB_USER}:{DB_PASS}@{DB_HOST}:{DB_PORT}/{DB_NAME}\"\n",
    "engine =  create_engine(url)\n",
    "\n",
    "with engine.begin() as conn:\n",
    "    conn.execute(text(\"CREATE SCHEMA IF NOT EXISTS skytracker\"))\n",
    "\n",
    "conn.close()"
   ]
  },
  {
   "cell_type": "code",
   "execution_count": 41,
   "id": "3d120343",
   "metadata": {},
   "outputs": [
    {
     "name": "stderr",
     "output_type": "stream",
     "text": [
      "                                                                                \r"
     ]
    }
   ],
   "source": [
    "# Loading data into the database\n",
    "\n",
    "db_properties = {\n",
    "    \"user\": DB_USER,\n",
    "    \"password\": DB_PASS,\n",
    "    \"driver\": \"org.postgresql.Driver\"\n",
    "}\n",
    "\n",
    "jdbc_url = f\"jdbc:postgresql://{DB_HOST}:{DB_PORT}/{DB_NAME}\"\n",
    "\n",
    "fact_flights_df.write.jdbc(url=jdbc_url, table=\"skytracker.facts\", mode=\"append\", properties=db_properties)\n",
    "dim_aircraft.write.jdbc(url=jdbc_url, table=\"skytracker.aircrafts\", mode=\"append\", properties=db_properties)\n",
    "dim_airline.write.jdbc(url=jdbc_url, table=\"skytracker.airlines\", mode=\"append\", properties=db_properties)\n",
    "dim_airports.write.jdbc(url=jdbc_url, table=\"skytracker.airports\", mode=\"append\", properties=db_properties)"
   ]
  }
 ],
 "metadata": {
  "kernelspec": {
   "display_name": "skytrack-env",
   "language": "python",
   "name": "python3"
  },
  "language_info": {
   "codemirror_mode": {
    "name": "ipython",
    "version": 3
   },
   "file_extension": ".py",
   "mimetype": "text/x-python",
   "name": "python",
   "nbconvert_exporter": "python",
   "pygments_lexer": "ipython3",
   "version": "3.12.7"
  }
 },
 "nbformat": 4,
 "nbformat_minor": 5
}
